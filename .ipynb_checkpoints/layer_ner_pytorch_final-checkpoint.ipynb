{
 "cells": [
  {
   "cell_type": "markdown",
   "metadata": {},
   "source": [
    "# Fine Tuning BERT For Named Entity Recognition On United Nations Documents"
   ]
  },
  {
   "cell_type": "markdown",
   "metadata": {
    "id": "o8m0hRhZu-mc"
   },
   "source": [
    "Humans understand the world by putting labels on things and examining how these labels relate to each other. A reflection of this natural language processing and information retrievial world is technique called Named Entity Recognition (NER). The objective is to detect the entity type of segments of text in a document. These entities could be organizations, locations, persons or others. \n",
    "\n",
    "In this blog post, I will go through an example for learning an named entity recognition model on specific domain. Instead of creating a NER model from scratch, I will use transfer-learning by taking pre-trained language model, BERT, trained on a large number of general examples and fine-tune that neural network on a very specific type of domain. \n",
    "\n",
    "Alongside the tutorial on learning an NER model, I will run this project on Layer in order to make use of their metadata store for storing and tracking the datasets and model artifacts as well as their free GPU compute instances. \n",
    "\n",
    "Firstly, let's define the problem. We are working with a set of documents from United Nations (UN). Diplomatic jargon is the norm at the UN and these documents contain many specific entities that we don't encounter in everyday language such as the Office for the Coordination of Humanitarian Affairs of the Secretariat and the Office of the United\n",
    "Nations High Commissioner for Refugees. We would like to automatically detect these entities with their corresponding types. With the entities flagged, we can power many interesting use cases such as information retrivial, question/answering, document similarity etc. \n",
    "\n",
    "The dataset is generously made available to the public by Leslie Huang. It consists of transcribed speeches given at the UN General Assembly from 1993-2016, which were scraped from the UN website, parsed (e.g. from PDF), and cleaned. More than 50,000 tokens were manually annotated for NER tags.\n",
    "https://github.com/leslie-huang/UN-named-entity-recognition"
   ]
  },
  {
   "cell_type": "markdown",
   "metadata": {},
   "source": [
    "## Installing/Importing Libraries"
   ]
  },
  {
   "cell_type": "markdown",
   "metadata": {
    "id": "CVvvGQhaviCl"
   },
   "source": [
    "Let's start by creating a project at Layer so that we can define a reproducible project and dataset and artifacts logged along with parameters for future reference. Layer helps you build, train and track all your machine learning project metadata including ML models and datasets‍ with semantic versioning. It also allows you to use their cloud infrastucture free of charge including access to GPUs. We will work with a pretrained transformer based language model; so added processing power is very welcome.\n",
    "\n",
    "We will start by installing the necessary libraries."
   ]
  },
  {
   "cell_type": "code",
   "execution_count": 1,
   "metadata": {
    "id": "P6RV7XoO2ndN"
   },
   "outputs": [],
   "source": [
    "!pip install layer --upgrade -qqq\n",
    "!pip install -U ipython\n",
    "\n",
    "!pip install transformers\n",
    "!pip install datasets\n",
    "!pip install seqeval"
   ]
  },
  {
   "cell_type": "markdown",
   "metadata": {},
   "source": [
    "Here we log in to Layer and initialize our ML project called \"ner-finetuning\".  "
   ]
  },
  {
   "cell_type": "code",
   "execution_count": 1,
   "metadata": {
    "colab": {
     "base_uri": "https://localhost:8080/",
     "height": 371
    },
    "id": "KN8k1CUj2eL8",
    "outputId": "d895bd59-0e04-4ed3-b4c8-d2d2c2afb37b"
   },
   "outputs": [
    {
     "data": {
      "text/plain": [
       "Your Layer project is here: https://app.layer.ai/kaankarakeben/united_nations_ner-finetuning"
      ]
     },
     "execution_count": 1,
     "metadata": {},
     "output_type": "execute_result"
    }
   ],
   "source": [
    "import os\n",
    "import itertools\n",
    "import pandas as pd\n",
    "import random\n",
    "from collections import Counter\n",
    "from math import ceil\n",
    "from datasets import Dataset\n",
    "\n",
    "from transformers import BertTokenizerFast, BertConfig, BertForTokenClassification\n",
    "import torch\n",
    "from sklearn.metrics import accuracy_score\n",
    "from torch.utils.data import Dataset, DataLoader\n",
    "\n",
    "import layer\n",
    "from layer.decorators import model, pip_requirements, fabric, dataset, resources\n",
    "\n",
    "layer.login()\n",
    "layer.init(\"united_nations_ner-finetuning\")"
   ]
  },
  {
   "cell_type": "markdown",
   "metadata": {},
   "source": [
    "After setting up the ML metadatastore, we will now clone the Github repository that hosts the dataset files."
   ]
  },
  {
   "cell_type": "code",
   "execution_count": 4,
   "metadata": {},
   "outputs": [
    {
     "name": "stdout",
     "output_type": "stream",
     "text": [
      "Cloning into 'UN-named-entity-recognition'...\n",
      "remote: Enumerating objects: 21580, done.\u001b[K\n",
      "remote: Total 21580 (delta 0), reused 0 (delta 0), pack-reused 21580\u001b[K\n",
      "Receiving objects: 100% (21580/21580), 14.70 MiB | 6.54 MiB/s, done.\n",
      "Resolving deltas: 100% (21095/21095), done.\n"
     ]
    }
   ],
   "source": [
    "!git clone https://github.com/leslie-huang/UN-named-entity-recognition"
   ]
  },
  {
   "cell_type": "markdown",
   "metadata": {},
   "source": [
    "## Dataset\n",
    "\n",
    "At this step, we will load the tagged documents from both training and test sets and store them in a DataFrame.\n",
    "As you may have noticed, we are using decorators from Layer to define a dataset artifact that will be logged on our cloud project at Layer. By calling \"layer.run()\" we will running the function \"create_dataset\" on the cloud infrastructure.\n",
    "\n",
    "You may have also noticed we are logging some text metadata with the raw dataset. This enriches our ML project at the readability and reproducability level. As code is more often read then written, so are ML projects. \n",
    "\n",
    "Next, we will get the dataset into local memory by calling it from Layer with layer.get_dataset() function. "
   ]
  },
  {
   "cell_type": "code",
   "execution_count": 8,
   "metadata": {},
   "outputs": [
    {
     "data": {
      "application/vnd.jupyter.widget-view+json": {
       "model_id": "42abd8b275134c2db40c083f85861eaf",
       "version_major": 2,
       "version_minor": 0
      },
      "text/plain": [
       "Output()"
      ]
     },
     "metadata": {},
     "output_type": "display_data"
    },
    {
     "data": {
      "text/html": [
       "<pre style=\"white-space:pre;overflow-x:auto;line-height:normal;font-family:Menlo,'DejaVu Sans Mono',consolas,'Courier New',monospace\"></pre>\n"
      ],
      "text/plain": []
     },
     "metadata": {},
     "output_type": "display_data"
    },
    {
     "data": {
      "text/html": [
       "<pre style=\"white-space:pre;overflow-x:auto;line-height:normal;font-family:Menlo,'DejaVu Sans Mono',consolas,'Courier New',monospace\">\n",
       "</pre>\n"
      ],
      "text/plain": [
       "\n"
      ]
     },
     "metadata": {},
     "output_type": "display_data"
    }
   ],
   "source": [
    "@dataset(\"un_ner_raw_dataset\")\n",
    "@resources(path=\"./UN-named-entity-recognition\")\n",
    "def create_raw_dataset():\n",
    "    directories = ['./UN-named-entity-recognition/tagged-training/', './UN-named-entity-recognition/tagged-test/']\n",
    "    data_files = []\n",
    "    for dir in directories:\n",
    "        for filename in os.listdir(dir):\n",
    "            file_path = os.path.join(dir, filename)\n",
    "\n",
    "            with open(file_path, 'r', encoding=\"utf8\") as f:\n",
    "                lines = f.readlines()\n",
    "                split_list = [list(y) for x, y in itertools.groupby(lines, lambda z: z == '\\n') if not x]\n",
    "                tokens = [[x.split('\\t')[0] for x in y] for y in split_list]\n",
    "                entities = [[x.split('\\t')[1][:-1] for x in y] for y in split_list]\n",
    "                data_files.append(pd.DataFrame({'tokens': tokens, 'ner_tags': entities}))\n",
    "\n",
    "    dataset = pd.concat(data_files).reset_index().drop('index', axis=1)\n",
    "\n",
    "    dataset_description = \"\"\"The corpus consists of a sample of transcribed speeches given at the UN General Assembly from 1993-2016, which were scraped from the UN website, parsed (e.g. from PDF), and cleaned. More than 50,000 tokens in the test data were manually tagged for Named Entity Recognition (O - Not a Named Entity; I-PER - Person; I-ORG - Organization; I-LOC - Location; I-MISC - Other Named Entity).\"\"\"\n",
    "    layer.log({\"# Examples\": len(dataset)})\n",
    "    layer.log({\"Dataset Description\": dataset_description})\n",
    "    layer.log({\"Source\": \"https://github.com/leslie-huang/UN-named-entity-recognition\"})\n",
    "\n",
    "    return dataset\n",
    "\n",
    "layer.run([create_raw_dataset])"
   ]
  },
  {
   "cell_type": "markdown",
   "metadata": {},
   "source": [
    "Next we will examine the dataset. The annotation follows us specific Named Entity Recognition annotation scheme called IOB-tagging. It stands for Inside-Outside-Beginning. The document is tagged at the word level and entities sometimes comes in word groups. To note the entities that cover a few words we use the Beginning (B) and Inside (I) tags. \n",
    "Example: Tim Cook works at Apple. \n",
    "[Tim, Cook, works, at, Apple] -> [B-PER, I-PER, O, 0, B-ORG]\n",
    "\n",
    "Our dataset consists of two columns where each item is a list. At \"tokens\" column, we have words in the document in a list. In the \"ner_tags\" column, we have the corresponding tags."
   ]
  },
  {
   "cell_type": "code",
   "execution_count": 10,
   "metadata": {},
   "outputs": [
    {
     "data": {
      "application/vnd.jupyter.widget-view+json": {
       "model_id": "33dbc0f02f5f4bc5848bc63ac51482b5",
       "version_major": 2,
       "version_minor": 0
      },
      "text/plain": [
       "Output()"
      ]
     },
     "metadata": {},
     "output_type": "display_data"
    },
    {
     "data": {
      "text/html": [
       "<pre style=\"white-space:pre;overflow-x:auto;line-height:normal;font-family:Menlo,'DejaVu Sans Mono',consolas,'Courier New',monospace\"></pre>\n"
      ],
      "text/plain": []
     },
     "metadata": {},
     "output_type": "display_data"
    },
    {
     "data": {
      "text/html": [
       "<pre style=\"white-space:pre;overflow-x:auto;line-height:normal;font-family:Menlo,'DejaVu Sans Mono',consolas,'Courier New',monospace\">\n",
       "</pre>\n"
      ],
      "text/plain": [
       "\n"
      ]
     },
     "metadata": {},
     "output_type": "display_data"
    },
    {
     "data": {
      "text/html": [
       "<div>\n",
       "<style scoped>\n",
       "    .dataframe tbody tr th:only-of-type {\n",
       "        vertical-align: middle;\n",
       "    }\n",
       "\n",
       "    .dataframe tbody tr th {\n",
       "        vertical-align: top;\n",
       "    }\n",
       "\n",
       "    .dataframe thead th {\n",
       "        text-align: right;\n",
       "    }\n",
       "</style>\n",
       "<table border=\"1\" class=\"dataframe\">\n",
       "  <thead>\n",
       "    <tr style=\"text-align: right;\">\n",
       "      <th></th>\n",
       "      <th>tokens</th>\n",
       "      <th>ner_tags</th>\n",
       "    </tr>\n",
       "  </thead>\n",
       "  <tbody>\n",
       "    <tr>\n",
       "      <th>0</th>\n",
       "      <td>[Kuwait, congratulates, Mr., Srgjan, Kerim, up...</td>\n",
       "      <td>[I-LOC, O, O, I-PER, I-PER, O, O, O, O, O, O, ...</td>\n",
       "    </tr>\n",
       "    <tr>\n",
       "      <th>1</th>\n",
       "      <td>[Despite, the, fact, that, two, years, have, e...</td>\n",
       "      <td>[O, O, O, O, O, O, O, O, O, O, O, I-MISC, I-MI...</td>\n",
       "    </tr>\n",
       "    <tr>\n",
       "      <th>2</th>\n",
       "      <td>[Recent, times, have, seen, a, number, of, out...</td>\n",
       "      <td>[O, O, O, O, O, O, O, O, O, O, O, O, O, O, O, ...</td>\n",
       "    </tr>\n",
       "    <tr>\n",
       "      <th>3</th>\n",
       "      <td>[These, were, all, necessary, achievements, ,,...</td>\n",
       "      <td>[O, O, O, O, O, O, O, O, O, O, O, O, O, O, O, ...</td>\n",
       "    </tr>\n",
       "    <tr>\n",
       "      <th>4</th>\n",
       "      <td>[Moreover, ,, the, revival, of, racial, bias, ...</td>\n",
       "      <td>[O, O, O, O, O, O, O, O, O, O, O, O, O, O, O, ...</td>\n",
       "    </tr>\n",
       "  </tbody>\n",
       "</table>\n",
       "</div>"
      ],
      "text/plain": [
       "                                              tokens  \\\n",
       "0  [Kuwait, congratulates, Mr., Srgjan, Kerim, up...   \n",
       "1  [Despite, the, fact, that, two, years, have, e...   \n",
       "2  [Recent, times, have, seen, a, number, of, out...   \n",
       "3  [These, were, all, necessary, achievements, ,,...   \n",
       "4  [Moreover, ,, the, revival, of, racial, bias, ...   \n",
       "\n",
       "                                            ner_tags  \n",
       "0  [I-LOC, O, O, I-PER, I-PER, O, O, O, O, O, O, ...  \n",
       "1  [O, O, O, O, O, O, O, O, O, O, O, I-MISC, I-MI...  \n",
       "2  [O, O, O, O, O, O, O, O, O, O, O, O, O, O, O, ...  \n",
       "3  [O, O, O, O, O, O, O, O, O, O, O, O, O, O, O, ...  \n",
       "4  [O, O, O, O, O, O, O, O, O, O, O, O, O, O, O, ...  "
      ]
     },
     "execution_count": 10,
     "metadata": {},
     "output_type": "execute_result"
    }
   ],
   "source": [
    "raw_dataset = layer.get_dataset(\"kaankarakeben/united_nations_ner-finetuning/datasets/un_ner_raw_dataset\").to_pandas()\n",
    "raw_dataset.head()"
   ]
  },
  {
   "cell_type": "markdown",
   "metadata": {},
   "source": [
    "We will now create a Counter object from the NER tags. As expected the most common tag is \"O\" denoting \"Outside\" for words that are not a part of a named entity. Second is \"I-ORG\" tag denoting organisation entities and next in line is location.\n",
    "An interesting find is that while we have Inside (I) tags, we don't have their beginning (B) tags. We also have some typos that have very low representations. "
   ]
  },
  {
   "cell_type": "code",
   "execution_count": 11,
   "metadata": {},
   "outputs": [
    {
     "data": {
      "text/plain": [
       "[('O', 135914),\n",
       " ('I-ORG', 3562),\n",
       " ('I-LOC', 3329),\n",
       " ('I-MISC', 2649),\n",
       " ('I-PER', 444),\n",
       " ('0', 7),\n",
       " ('I-', 2),\n",
       " ('I-PRG', 1),\n",
       " ('I-I-MISC', 1),\n",
       " ('I-OR', 1),\n",
       " ('VMISC', 1)]"
      ]
     },
     "execution_count": 11,
     "metadata": {},
     "output_type": "execute_result"
    }
   ],
   "source": [
    "raw_tags_counter = Counter([tag for tags in raw_dataset[\"ner_tags\"] for tag in tags])\n",
    "raw_tags_counter.most_common()"
   ]
  },
  {
   "cell_type": "markdown",
   "metadata": {},
   "source": [
    "It would pay off the clean the tag further and remove the tags that are typos to have clearer dataset. "
   ]
  },
  {
   "cell_type": "code",
   "execution_count": 12,
   "metadata": {},
   "outputs": [
    {
     "data": {
      "text/plain": [
       "[('O', 135927),\n",
       " ('I-ORG', 3562),\n",
       " ('I-LOC', 3329),\n",
       " ('I-MISC', 2649),\n",
       " ('I-PER', 444)]"
      ]
     },
     "execution_count": 12,
     "metadata": {},
     "output_type": "execute_result"
    }
   ],
   "source": [
    "tags_to_remove = [\"I-PRG\", \"I-I-MISC\", \"I-OR\", \"VMISC\", \"I-\", \"0\"]\n",
    "\n",
    "def clean_tags(tags):\n",
    "    clean_list = []\n",
    "    for tag in list(tags):\n",
    "        if tag != \"O\":\n",
    "            if tag not in tags_to_remove:\n",
    "                clean_list.append(tag)\n",
    "            else:\n",
    "                clean_list.append(\"O\")    \n",
    "        else:\n",
    "            clean_list.append(\"O\")\n",
    "    return clean_list\n",
    "raw_dataset[\"ner_tags\"] = raw_dataset[\"ner_tags\"].apply(lambda x: clean_tags(x))\n",
    "\n",
    "tag_counter = Counter([tag for tags in raw_dataset[\"ner_tags\"] for tag in tags])\n",
    "tag_counter.most_common()"
   ]
  },
  {
   "cell_type": "markdown",
   "metadata": {},
   "source": [
    "Now that we have a better idea of the dataset, let's log the clean dataset along with with tags metadata at Layer. This helps us to log distinct steps at our project and with an overview of the dataset. "
   ]
  },
  {
   "cell_type": "code",
   "execution_count": 14,
   "metadata": {
    "scrolled": true
   },
   "outputs": [
    {
     "data": {
      "application/vnd.jupyter.widget-view+json": {
       "model_id": "884efd6647074fb4bd901c42583e3ccb",
       "version_major": 2,
       "version_minor": 0
      },
      "text/plain": [
       "Output()"
      ]
     },
     "metadata": {},
     "output_type": "display_data"
    },
    {
     "data": {
      "text/html": [
       "<pre style=\"white-space:pre;overflow-x:auto;line-height:normal;font-family:Menlo,'DejaVu Sans Mono',consolas,'Courier New',monospace\"></pre>\n"
      ],
      "text/plain": []
     },
     "metadata": {},
     "output_type": "display_data"
    },
    {
     "data": {
      "text/html": [
       "<pre style=\"white-space:pre;overflow-x:auto;line-height:normal;font-family:Menlo,'DejaVu Sans Mono',consolas,'Courier New',monospace\">\n",
       "</pre>\n"
      ],
      "text/plain": [
       "\n"
      ]
     },
     "metadata": {},
     "output_type": "display_data"
    }
   ],
   "source": [
    "@dataset(\"un_ner_clean_dataset\")\n",
    "@resources(path=\"./UN-named-entity-recognition\")\n",
    "def clean_clean_dataset():\n",
    "    layer.log({\"Raw Tags Counter\": raw_tags_counter})\n",
    "    layer.log({\"Clean Tags Counter\": tag_counter})\n",
    "    return raw_dataset\n",
    "\n",
    "layer.run([clean_clean_dataset])"
   ]
  },
  {
   "cell_type": "code",
   "execution_count": 18,
   "metadata": {},
   "outputs": [
    {
     "data": {
      "application/vnd.jupyter.widget-view+json": {
       "model_id": "d3eed6e70a934c7289411b49de92bb73",
       "version_major": 2,
       "version_minor": 0
      },
      "text/plain": [
       "Output()"
      ]
     },
     "metadata": {},
     "output_type": "display_data"
    },
    {
     "data": {
      "text/html": [
       "<pre style=\"white-space:pre;overflow-x:auto;line-height:normal;font-family:Menlo,'DejaVu Sans Mono',consolas,'Courier New',monospace\"></pre>\n"
      ],
      "text/plain": []
     },
     "metadata": {},
     "output_type": "display_data"
    },
    {
     "data": {
      "text/html": [
       "<pre style=\"white-space:pre;overflow-x:auto;line-height:normal;font-family:Menlo,'DejaVu Sans Mono',consolas,'Courier New',monospace\">\n",
       "</pre>\n"
      ],
      "text/plain": [
       "\n"
      ]
     },
     "metadata": {},
     "output_type": "display_data"
    }
   ],
   "source": [
    "clean_dataset = layer.get_dataset(\"kaankarakeben/united_nations_ner-finetuning/datasets/un_ner_clean_dataset\").to_pandas()"
   ]
  },
  {
   "cell_type": "markdown",
   "metadata": {},
   "source": [
    "## Fine-tuning Pretrained BERT with PyTorch\n",
    "\n",
    "As stated earlier we will use a transfer learning to create our NER model. The pretrained model we'll use is BERT which large neural network traiend on masked language modelling and next sentence prediction tasks. If you are interested have a look at the original paper [https://arxiv.org/abs/1810.04805] and this brilliant blog post [http://jalammar.github.io/illustrated-bert/] by Jay Alammar. The fine-tunning will be supervised learning effort with our annotated dataset. \n",
    "\n",
    "We will work HuggingFace's very useful \"transformer\" library to get the pretrained model as well the tokenizer object that is required to turn our dataset into the input format for BERT. Below is the code to load the tokenizer and store it on our Layer project. This is an important step in the reproducibility of our work. Layer allow us to log our ML project artifacts and versions them automatically. "
   ]
  },
  {
   "cell_type": "code",
   "execution_count": 17,
   "metadata": {},
   "outputs": [
    {
     "data": {
      "application/vnd.jupyter.widget-view+json": {
       "model_id": "95236fac03f64c219ca2eb3ad1208f67",
       "version_major": 2,
       "version_minor": 0
      },
      "text/plain": [
       "Output()"
      ]
     },
     "metadata": {},
     "output_type": "display_data"
    },
    {
     "data": {
      "text/html": [
       "<pre style=\"white-space:pre;overflow-x:auto;line-height:normal;font-family:Menlo,'DejaVu Sans Mono',consolas,'Courier New',monospace\"></pre>\n"
      ],
      "text/plain": []
     },
     "metadata": {},
     "output_type": "display_data"
    },
    {
     "data": {
      "text/html": [
       "<pre style=\"white-space:pre;overflow-x:auto;line-height:normal;font-family:Menlo,'DejaVu Sans Mono',consolas,'Courier New',monospace\">\n",
       "</pre>\n"
      ],
      "text/plain": [
       "\n"
      ]
     },
     "metadata": {},
     "output_type": "display_data"
    }
   ],
   "source": [
    "@pip_requirements(packages=[\"transformers\"])\n",
    "@fabric(\"f-medium\")\n",
    "@model(name=\"bert-base-uncased-tokenizer\")\n",
    "def download_tokenizer():\n",
    "    from transformers import BertTokenizerFast\n",
    "    tokenizer = BertTokenizerFast.from_pretrained('bert-base-uncased')\n",
    "    return tokenizer\n",
    "\n",
    "layer.run([download_tokenizer])"
   ]
  },
  {
   "cell_type": "code",
   "execution_count": null,
   "metadata": {},
   "outputs": [],
   "source": [
    "tokenizer = layer.get_model(\"kaankarakeben/united_nations_ner-finetuning/models/bert-base-uncased-tokenizer\").get_train()"
   ]
  },
  {
   "cell_type": "markdown",
   "metadata": {},
   "source": [
    "We need the BERT tokenizer in order to map the tokens (words) and NER tags into numerical representations in the format the pretraiend model expects. The following method carries out this job for us."
   ]
  },
  {
   "cell_type": "code",
   "execution_count": 20,
   "metadata": {
    "colab": {
     "base_uri": "https://localhost:8080/",
     "height": 81,
     "referenced_widgets": [
      "ea6a25401edf49e8a02ddf3d1d85dcc0",
      "7050216aeee0495f9ee51c03a32b9e6a",
      "c1f1bd8a5ef94339ae2d70a4a40728a7",
      "d9a637d50798446190307f13e51c65dc",
      "e99624aa26aa438fb28a3992b67411a4",
      "6df3016fbe48436ea3b532fe396273d7",
      "ecf340ac2ae645bbbb03564c46036b76",
      "e0ba0c17f88541f9977a5d726cf5339f",
      "428fca2ba5064f17a666888d14c87091",
      "bc4e0b87b5524dee9bf3b74ee9c2d2e8",
      "70712a7d44cf4450b2c50b820f1307bf",
      "69c0b2767c4a4ed4989c8f7c27f3aa63",
      "335c38ade7e9419e9fd58bdf2d10416b",
      "2a133db8121f45ddabfafdc5065fe74a",
      "bb893dd299e3435696f01246a75419ba",
      "8f245d300b364f3381f480a002567dae",
      "77682a8bbf7348509d79a89f4bd6195a",
      "ea8ce2f070db48b8926c2e44b9739ee5",
      "863bd4417b5445cc9ec579d27749cfc2",
      "942a1d7cb0b94d949b00d95fbbdd6397",
      "bd7fc9bbaf9d447a84bf7b316b51bf4d",
      "baace9dfc375425d82f42f856ac2895c"
     ]
    },
    "id": "My5NJlYIwvMf",
    "outputId": "b2ac496c-bd41-4b95-bd66-e774964efa28"
   },
   "outputs": [],
   "source": [
    "# Also, we will create numerical indexes for tags\n",
    "tag_to_ids = {tag: ix for ix, tag in enumerate(tag_counter.keys())}\n",
    "id_to_tag = {ix: tag for tag, ix in tag_to_ids.items()}\n",
    "\n",
    "class dataset(Dataset):\n",
    "  def __init__(self, dataframe, tokenizer, max_len):\n",
    "        self.len = len(dataframe)\n",
    "        self.data = dataframe\n",
    "        self.tokenizer = tokenizer\n",
    "        self.max_len = max_len\n",
    "\n",
    "  def __getitem__(self, index):\n",
    "\n",
    "        label_all_tokens = True\n",
    "        tokenized_inputs = tokenizer([list(self.data.tokens[index])], truncation=True, is_split_into_words=True, max_length=128, padding='max_length')\n",
    "\n",
    "        labels = []\n",
    "        for i, label in enumerate([list(self.data.ner_tags[index])]):\n",
    "            word_ids = tokenized_inputs.word_ids(batch_index=i)\n",
    "            previous_word_idx = None\n",
    "            label_ids = []\n",
    "            for word_idx in word_ids:\n",
    "                if word_idx is None:\n",
    "                    label_ids.append(-100)\n",
    "                elif label[word_idx] == '0':\n",
    "                    label_ids.append(0)\n",
    "                elif word_idx != previous_word_idx:\n",
    "                    label_ids.append(tag_to_ids[label[word_idx]])\n",
    "                else:\n",
    "                    label_ids.append(tag_to_ids[label[word_idx]] if label_all_tokens else -100)\n",
    "                previous_word_idx = word_idx\n",
    "            labels.append(label_ids)\n",
    "            \n",
    "        tokenized_inputs[\"labels\"] = labels\n",
    "\n",
    "        single_tokenized_input = {}\n",
    "        for k, v in tokenized_inputs.items():\n",
    "          single_tokenized_input[k] = torch.as_tensor(v[0])\n",
    "        \n",
    "        return single_tokenized_input\n",
    "\n",
    "  def __len__(self):\n",
    "        return self.len"
   ]
  },
  {
   "cell_type": "markdown",
   "metadata": {},
   "source": [
    "One last thing before we start modelling is splitting our dataset into train and test sets. We will hold out 20% of the dataset for evaluating purposes."
   ]
  },
  {
   "cell_type": "code",
   "execution_count": 21,
   "metadata": {},
   "outputs": [
    {
     "name": "stdout",
     "output_type": "stream",
     "text": [
      "FULL Dataset: (5731, 2)\n",
      "TRAIN Dataset: (4585, 2)\n",
      "TEST Dataset: (1146, 2)\n"
     ]
    }
   ],
   "source": [
    "MAX_LEN = 128\n",
    "TRAIN_BATCH_SIZE = 4\n",
    "VALID_BATCH_SIZE = 2\n",
    "EPOCHS = 1\n",
    "LEARNING_RATE = 1e-05\n",
    "MAX_GRAD_NORM = 10\n",
    "\n",
    "train_size = 0.8\n",
    "train_dataset = clean_dataset.sample(frac=train_size,random_state=200)\n",
    "test_dataset = clean_dataset.drop(train_dataset.index).reset_index(drop=True)\n",
    "train_dataset = train_dataset.reset_index(drop=True)\n",
    "\n",
    "print(\"FULL Dataset: {}\".format(clean_dataset.shape))\n",
    "print(\"TRAIN Dataset: {}\".format(train_dataset.shape))\n",
    "print(\"TEST Dataset: {}\".format(test_dataset.shape))\n",
    "\n",
    "training_set = dataset(train_dataset, tokenizer, MAX_LEN)\n",
    "testing_set = dataset(test_dataset, tokenizer, MAX_LEN)"
   ]
  },
  {
   "cell_type": "markdown",
   "metadata": {},
   "source": [
    "At this point, we are ready to fine-tune our model by training the pretrained network with our annotated NER dataset. For demonstration purposes, we will stop at one epoch. Once again we will turn to Layer to do the heavy lifting. By calling \"layer.run([train])\" we will effectively carry out the computation at Layer's infrastructure, taking advantage of the available free GPU."
   ]
  },
  {
   "cell_type": "code",
   "execution_count": 22,
   "metadata": {},
   "outputs": [
    {
     "data": {
      "text/html": [
       "<div>\n",
       "<style scoped>\n",
       "    .dataframe tbody tr th:only-of-type {\n",
       "        vertical-align: middle;\n",
       "    }\n",
       "\n",
       "    .dataframe tbody tr th {\n",
       "        vertical-align: top;\n",
       "    }\n",
       "\n",
       "    .dataframe thead th {\n",
       "        text-align: right;\n",
       "    }\n",
       "</style>\n",
       "<table border=\"1\" class=\"dataframe\">\n",
       "  <thead>\n",
       "    <tr style=\"text-align: right;\">\n",
       "      <th></th>\n",
       "      <th>tokens</th>\n",
       "      <th>ner_tags</th>\n",
       "    </tr>\n",
       "  </thead>\n",
       "  <tbody>\n",
       "    <tr>\n",
       "      <th>0</th>\n",
       "      <td>[It, is, offensive, that, ,, in, the, twenty-f...</td>\n",
       "      <td>[O, O, O, O, O, O, O, O, O, O, O, O, O, O, O, ...</td>\n",
       "    </tr>\n",
       "    <tr>\n",
       "      <th>1</th>\n",
       "      <td>[The, victims, are, ,, as, always, ,, the, inn...</td>\n",
       "      <td>[O, O, O, O, O, O, O, O, O, O]</td>\n",
       "    </tr>\n",
       "    <tr>\n",
       "      <th>2</th>\n",
       "      <td>[Anyone, who, thinks, that, Israel, will, achi...</td>\n",
       "      <td>[O, O, O, O, I-LOC, O, O, O, O, O, O, O, O, O,...</td>\n",
       "    </tr>\n",
       "    <tr>\n",
       "      <th>3</th>\n",
       "      <td>[Corruption, remains, endemic, .]</td>\n",
       "      <td>[O, O, O, O]</td>\n",
       "    </tr>\n",
       "    <tr>\n",
       "      <th>4</th>\n",
       "      <td>[It, enlightens, us, .]</td>\n",
       "      <td>[O, O, O, O]</td>\n",
       "    </tr>\n",
       "  </tbody>\n",
       "</table>\n",
       "</div>"
      ],
      "text/plain": [
       "                                              tokens  \\\n",
       "0  [It, is, offensive, that, ,, in, the, twenty-f...   \n",
       "1  [The, victims, are, ,, as, always, ,, the, inn...   \n",
       "2  [Anyone, who, thinks, that, Israel, will, achi...   \n",
       "3                  [Corruption, remains, endemic, .]   \n",
       "4                            [It, enlightens, us, .]   \n",
       "\n",
       "                                            ner_tags  \n",
       "0  [O, O, O, O, O, O, O, O, O, O, O, O, O, O, O, ...  \n",
       "1                     [O, O, O, O, O, O, O, O, O, O]  \n",
       "2  [O, O, O, O, I-LOC, O, O, O, O, O, O, O, O, O,...  \n",
       "3                                       [O, O, O, O]  \n",
       "4                                       [O, O, O, O]  "
      ]
     },
     "execution_count": 22,
     "metadata": {},
     "output_type": "execute_result"
    }
   ],
   "source": [
    "train_dataset.head()"
   ]
  },
  {
   "cell_type": "code",
   "execution_count": 24,
   "metadata": {
    "scrolled": true
   },
   "outputs": [
    {
     "data": {
      "application/vnd.jupyter.widget-view+json": {
       "model_id": "a806fd572f524ea49ef2df96efc017bf",
       "version_major": 2,
       "version_minor": 0
      },
      "text/plain": [
       "Output()"
      ]
     },
     "metadata": {},
     "output_type": "display_data"
    },
    {
     "data": {
      "text/html": [
       "<pre style=\"white-space:pre;overflow-x:auto;line-height:normal;font-family:Menlo,'DejaVu Sans Mono',consolas,'Courier New',monospace\">--- Logging error ---\n",
       "</pre>\n"
      ],
      "text/plain": [
       "--- Logging error ---\n"
      ]
     },
     "metadata": {},
     "output_type": "display_data"
    },
    {
     "data": {
      "text/html": [
       "<pre style=\"white-space:pre;overflow-x:auto;line-height:normal;font-family:Menlo,'DejaVu Sans Mono',consolas,'Courier New',monospace\">Traceback (most recent call last):\n",
       "</pre>\n"
      ],
      "text/plain": [
       "Traceback (most recent call last):\n"
      ]
     },
     "metadata": {},
     "output_type": "display_data"
    },
    {
     "data": {
      "text/html": [
       "<pre style=\"white-space:pre;overflow-x:auto;line-height:normal;font-family:Menlo,'DejaVu Sans Mono',consolas,'Courier New',monospace\">  File \"/Users/kaankarakeben/.pyenv/versions/3.8.0/lib/python3.8/logging/__init__.py\", line \n",
       "1084, in emit\n",
       "    stream.write(msg + self.terminator)\n",
       "</pre>\n"
      ],
      "text/plain": [
       "  File \"/Users/kaankarakeben/.pyenv/versions/3.8.0/lib/python3.8/logging/__init__.py\", line \n",
       "1084, in emit\n",
       "    stream.write(msg + self.terminator)\n"
      ]
     },
     "metadata": {},
     "output_type": "display_data"
    },
    {
     "data": {
      "text/html": [
       "<pre style=\"white-space:pre;overflow-x:auto;line-height:normal;font-family:Menlo,'DejaVu Sans Mono',consolas,'Courier New',monospace\">  File \"/Users/kaankarakeben/.pyenv/versions/3.8.0/lib/python3.8/site-packages/ipykernel/iost\n",
       "ream.py\", line 394, in write\n",
       "    raise ValueError('I/O operation on closed file')\n",
       "</pre>\n"
      ],
      "text/plain": [
       "  File \"/Users/kaankarakeben/.pyenv/versions/3.8.0/lib/python3.8/site-packages/ipykernel/iost\n",
       "ream.py\", line 394, in write\n",
       "    raise ValueError('I/O operation on closed file')\n"
      ]
     },
     "metadata": {},
     "output_type": "display_data"
    },
    {
     "data": {
      "text/html": [
       "<pre style=\"white-space:pre;overflow-x:auto;line-height:normal;font-family:Menlo,'DejaVu Sans Mono',consolas,'Courier New',monospace\">ValueError: I/O operation on closed file\n",
       "</pre>\n"
      ],
      "text/plain": [
       "ValueError: I/O operation on closed file\n"
      ]
     },
     "metadata": {},
     "output_type": "display_data"
    },
    {
     "data": {
      "text/html": [
       "<pre style=\"white-space:pre;overflow-x:auto;line-height:normal;font-family:Menlo,'DejaVu Sans Mono',consolas,'Courier New',monospace\">Call stack:\n",
       "</pre>\n"
      ],
      "text/plain": [
       "Call stack:\n"
      ]
     },
     "metadata": {},
     "output_type": "display_data"
    },
    {
     "data": {
      "text/html": [
       "<pre style=\"white-space:pre;overflow-x:auto;line-height:normal;font-family:Menlo,'DejaVu Sans Mono',consolas,'Courier New',monospace\">  File \"/Users/kaankarakeben/.pyenv/versions/3.8.0/lib/python3.8/runpy.py\", line 192, in \n",
       "_run_module_as_main\n",
       "    return _run_code(code, main_globals, None,\n",
       "</pre>\n"
      ],
      "text/plain": [
       "  File \"/Users/kaankarakeben/.pyenv/versions/3.8.0/lib/python3.8/runpy.py\", line 192, in \n",
       "_run_module_as_main\n",
       "    return _run_code(code, main_globals, None,\n"
      ]
     },
     "metadata": {},
     "output_type": "display_data"
    },
    {
     "data": {
      "text/html": [
       "<pre style=\"white-space:pre;overflow-x:auto;line-height:normal;font-family:Menlo,'DejaVu Sans Mono',consolas,'Courier New',monospace\">  File \"/Users/kaankarakeben/.pyenv/versions/3.8.0/lib/python3.8/runpy.py\", line 85, in \n",
       "_run_code\n",
       "    exec(code, run_globals)\n",
       "</pre>\n"
      ],
      "text/plain": [
       "  File \"/Users/kaankarakeben/.pyenv/versions/3.8.0/lib/python3.8/runpy.py\", line 85, in \n",
       "_run_code\n",
       "    exec(code, run_globals)\n"
      ]
     },
     "metadata": {},
     "output_type": "display_data"
    },
    {
     "data": {
      "text/html": [
       "<pre style=\"white-space:pre;overflow-x:auto;line-height:normal;font-family:Menlo,'DejaVu Sans Mono',consolas,'Courier New',monospace\">  File \"/Users/kaankarakeben/.pyenv/versions/3.8.0/lib/python3.8/site-packages/ipykernel_laun\n",
       "cher.py\", line 16, in &lt;module&gt;\n",
       "    app.launch_new_instance()\n",
       "</pre>\n"
      ],
      "text/plain": [
       "  File \"/Users/kaankarakeben/.pyenv/versions/3.8.0/lib/python3.8/site-packages/ipykernel_laun\n",
       "cher.py\", line 16, in <module>\n",
       "    app.launch_new_instance()\n"
      ]
     },
     "metadata": {},
     "output_type": "display_data"
    },
    {
     "data": {
      "text/html": [
       "<pre style=\"white-space:pre;overflow-x:auto;line-height:normal;font-family:Menlo,'DejaVu Sans Mono',consolas,'Courier New',monospace\">  File \"/Users/kaankarakeben/.pyenv/versions/3.8.0/lib/python3.8/site-packages/traitlets/conf\n",
       "ig/application.py\", line 845, in launch_instance\n",
       "    app.start()\n",
       "</pre>\n"
      ],
      "text/plain": [
       "  File \"/Users/kaankarakeben/.pyenv/versions/3.8.0/lib/python3.8/site-packages/traitlets/conf\n",
       "ig/application.py\", line 845, in launch_instance\n",
       "    app.start()\n"
      ]
     },
     "metadata": {},
     "output_type": "display_data"
    },
    {
     "data": {
      "text/html": [
       "<pre style=\"white-space:pre;overflow-x:auto;line-height:normal;font-family:Menlo,'DejaVu Sans Mono',consolas,'Courier New',monospace\">  File \"/Users/kaankarakeben/.pyenv/versions/3.8.0/lib/python3.8/site-packages/ipykernel/kern\n",
       "elapp.py\", line 612, in start\n",
       "    self.io_loop.start()\n",
       "</pre>\n"
      ],
      "text/plain": [
       "  File \"/Users/kaankarakeben/.pyenv/versions/3.8.0/lib/python3.8/site-packages/ipykernel/kern\n",
       "elapp.py\", line 612, in start\n",
       "    self.io_loop.start()\n"
      ]
     },
     "metadata": {},
     "output_type": "display_data"
    },
    {
     "data": {
      "text/html": [
       "<pre style=\"white-space:pre;overflow-x:auto;line-height:normal;font-family:Menlo,'DejaVu Sans Mono',consolas,'Courier New',monospace\">  File \"/Users/kaankarakeben/.pyenv/versions/3.8.0/lib/python3.8/site-packages/tornado/platfo\n",
       "rm/asyncio.py\", line 199, in start\n",
       "    self.asyncio_loop.run_forever()\n",
       "</pre>\n"
      ],
      "text/plain": [
       "  File \"/Users/kaankarakeben/.pyenv/versions/3.8.0/lib/python3.8/site-packages/tornado/platfo\n",
       "rm/asyncio.py\", line 199, in start\n",
       "    self.asyncio_loop.run_forever()\n"
      ]
     },
     "metadata": {},
     "output_type": "display_data"
    },
    {
     "data": {
      "text/html": [
       "<pre style=\"white-space:pre;overflow-x:auto;line-height:normal;font-family:Menlo,'DejaVu Sans Mono',consolas,'Courier New',monospace\">  File \"/Users/kaankarakeben/.pyenv/versions/3.8.0/lib/python3.8/asyncio/base_events.py\", \n",
       "line 563, in run_forever\n",
       "    self._run_once()\n",
       "</pre>\n"
      ],
      "text/plain": [
       "  File \"/Users/kaankarakeben/.pyenv/versions/3.8.0/lib/python3.8/asyncio/base_events.py\", \n",
       "line 563, in run_forever\n",
       "    self._run_once()\n"
      ]
     },
     "metadata": {},
     "output_type": "display_data"
    },
    {
     "data": {
      "text/html": [
       "<pre style=\"white-space:pre;overflow-x:auto;line-height:normal;font-family:Menlo,'DejaVu Sans Mono',consolas,'Courier New',monospace\">  File \"/Users/kaankarakeben/.pyenv/versions/3.8.0/lib/python3.8/asyncio/base_events.py\", \n",
       "line 1844, in _run_once\n",
       "    handle._run()\n",
       "</pre>\n"
      ],
      "text/plain": [
       "  File \"/Users/kaankarakeben/.pyenv/versions/3.8.0/lib/python3.8/asyncio/base_events.py\", \n",
       "line 1844, in _run_once\n",
       "    handle._run()\n"
      ]
     },
     "metadata": {},
     "output_type": "display_data"
    },
    {
     "data": {
      "text/html": [
       "<pre style=\"white-space:pre;overflow-x:auto;line-height:normal;font-family:Menlo,'DejaVu Sans Mono',consolas,'Courier New',monospace\">  File \"/Users/kaankarakeben/.pyenv/versions/3.8.0/lib/python3.8/asyncio/events.py\", line 81,\n",
       "in _run\n",
       "    self._context.run(self._callback, *self._args)\n",
       "</pre>\n"
      ],
      "text/plain": [
       "  File \"/Users/kaankarakeben/.pyenv/versions/3.8.0/lib/python3.8/asyncio/events.py\", line 81,\n",
       "in _run\n",
       "    self._context.run(self._callback, *self._args)\n"
      ]
     },
     "metadata": {},
     "output_type": "display_data"
    },
    {
     "data": {
      "text/html": [
       "<pre style=\"white-space:pre;overflow-x:auto;line-height:normal;font-family:Menlo,'DejaVu Sans Mono',consolas,'Courier New',monospace\">  File \n",
       "\"/Users/kaankarakeben/.pyenv/versions/3.8.0/lib/python3.8/site-packages/tornado/ioloop.py\", \n",
       "line 688, in &lt;lambda&gt;\n",
       "    lambda f: self._run_callback(functools.partial(callback, future))\n",
       "</pre>\n"
      ],
      "text/plain": [
       "  File \n",
       "\"/Users/kaankarakeben/.pyenv/versions/3.8.0/lib/python3.8/site-packages/tornado/ioloop.py\", \n",
       "line 688, in <lambda>\n",
       "    lambda f: self._run_callback(functools.partial(callback, future))\n"
      ]
     },
     "metadata": {},
     "output_type": "display_data"
    },
    {
     "data": {
      "text/html": [
       "<pre style=\"white-space:pre;overflow-x:auto;line-height:normal;font-family:Menlo,'DejaVu Sans Mono',consolas,'Courier New',monospace\">  File \n",
       "\"/Users/kaankarakeben/.pyenv/versions/3.8.0/lib/python3.8/site-packages/tornado/ioloop.py\", \n",
       "line 741, in _run_callback\n",
       "    ret = callback()\n",
       "</pre>\n"
      ],
      "text/plain": [
       "  File \n",
       "\"/Users/kaankarakeben/.pyenv/versions/3.8.0/lib/python3.8/site-packages/tornado/ioloop.py\", \n",
       "line 741, in _run_callback\n",
       "    ret = callback()\n"
      ]
     },
     "metadata": {},
     "output_type": "display_data"
    },
    {
     "data": {
      "text/html": [
       "<pre style=\"white-space:pre;overflow-x:auto;line-height:normal;font-family:Menlo,'DejaVu Sans Mono',consolas,'Courier New',monospace\">  File \n",
       "\"/Users/kaankarakeben/.pyenv/versions/3.8.0/lib/python3.8/site-packages/tornado/gen.py\", line\n",
       "814, in inner\n",
       "    self.ctx_run(self.run)\n",
       "</pre>\n"
      ],
      "text/plain": [
       "  File \n",
       "\"/Users/kaankarakeben/.pyenv/versions/3.8.0/lib/python3.8/site-packages/tornado/gen.py\", line\n",
       "814, in inner\n",
       "    self.ctx_run(self.run)\n"
      ]
     },
     "metadata": {},
     "output_type": "display_data"
    },
    {
     "data": {
      "text/html": [
       "<pre style=\"white-space:pre;overflow-x:auto;line-height:normal;font-family:Menlo,'DejaVu Sans Mono',consolas,'Courier New',monospace\">  File \n",
       "\"/Users/kaankarakeben/.pyenv/versions/3.8.0/lib/python3.8/site-packages/tornado/gen.py\", line\n",
       "775, in run\n",
       "    yielded = self.gen.send(value)\n",
       "</pre>\n"
      ],
      "text/plain": [
       "  File \n",
       "\"/Users/kaankarakeben/.pyenv/versions/3.8.0/lib/python3.8/site-packages/tornado/gen.py\", line\n",
       "775, in run\n",
       "    yielded = self.gen.send(value)\n"
      ]
     },
     "metadata": {},
     "output_type": "display_data"
    },
    {
     "data": {
      "text/html": [
       "<pre style=\"white-space:pre;overflow-x:auto;line-height:normal;font-family:Menlo,'DejaVu Sans Mono',consolas,'Courier New',monospace\">  File \"/Users/kaankarakeben/.pyenv/versions/3.8.0/lib/python3.8/site-packages/ipykernel/kern\n",
       "elbase.py\", line 358, in process_one\n",
       "    yield gen.maybe_future(dispatch(*args))\n",
       "</pre>\n"
      ],
      "text/plain": [
       "  File \"/Users/kaankarakeben/.pyenv/versions/3.8.0/lib/python3.8/site-packages/ipykernel/kern\n",
       "elbase.py\", line 358, in process_one\n",
       "    yield gen.maybe_future(dispatch(*args))\n"
      ]
     },
     "metadata": {},
     "output_type": "display_data"
    },
    {
     "data": {
      "text/html": [
       "<pre style=\"white-space:pre;overflow-x:auto;line-height:normal;font-family:Menlo,'DejaVu Sans Mono',consolas,'Courier New',monospace\">  File \n",
       "\"/Users/kaankarakeben/.pyenv/versions/3.8.0/lib/python3.8/site-packages/tornado/gen.py\", line\n",
       "234, in wrapper\n",
       "    yielded = ctx_run(next, result)\n",
       "</pre>\n"
      ],
      "text/plain": [
       "  File \n",
       "\"/Users/kaankarakeben/.pyenv/versions/3.8.0/lib/python3.8/site-packages/tornado/gen.py\", line\n",
       "234, in wrapper\n",
       "    yielded = ctx_run(next, result)\n"
      ]
     },
     "metadata": {},
     "output_type": "display_data"
    },
    {
     "data": {
      "text/html": [
       "<pre style=\"white-space:pre;overflow-x:auto;line-height:normal;font-family:Menlo,'DejaVu Sans Mono',consolas,'Courier New',monospace\">  File \"/Users/kaankarakeben/.pyenv/versions/3.8.0/lib/python3.8/site-packages/ipykernel/kern\n",
       "elbase.py\", line 261, in dispatch_shell\n",
       "    yield gen.maybe_future(handler(stream, idents, msg))\n",
       "</pre>\n"
      ],
      "text/plain": [
       "  File \"/Users/kaankarakeben/.pyenv/versions/3.8.0/lib/python3.8/site-packages/ipykernel/kern\n",
       "elbase.py\", line 261, in dispatch_shell\n",
       "    yield gen.maybe_future(handler(stream, idents, msg))\n"
      ]
     },
     "metadata": {},
     "output_type": "display_data"
    },
    {
     "data": {
      "text/html": [
       "<pre style=\"white-space:pre;overflow-x:auto;line-height:normal;font-family:Menlo,'DejaVu Sans Mono',consolas,'Courier New',monospace\">  File \n",
       "\"/Users/kaankarakeben/.pyenv/versions/3.8.0/lib/python3.8/site-packages/tornado/gen.py\", line\n",
       "234, in wrapper\n",
       "    yielded = ctx_run(next, result)\n",
       "</pre>\n"
      ],
      "text/plain": [
       "  File \n",
       "\"/Users/kaankarakeben/.pyenv/versions/3.8.0/lib/python3.8/site-packages/tornado/gen.py\", line\n",
       "234, in wrapper\n",
       "    yielded = ctx_run(next, result)\n"
      ]
     },
     "metadata": {},
     "output_type": "display_data"
    },
    {
     "data": {
      "text/html": [
       "<pre style=\"white-space:pre;overflow-x:auto;line-height:normal;font-family:Menlo,'DejaVu Sans Mono',consolas,'Courier New',monospace\">  File \"/Users/kaankarakeben/.pyenv/versions/3.8.0/lib/python3.8/site-packages/ipykernel/kern\n",
       "elbase.py\", line 536, in execute_request\n",
       "    self.do_execute(\n",
       "</pre>\n"
      ],
      "text/plain": [
       "  File \"/Users/kaankarakeben/.pyenv/versions/3.8.0/lib/python3.8/site-packages/ipykernel/kern\n",
       "elbase.py\", line 536, in execute_request\n",
       "    self.do_execute(\n"
      ]
     },
     "metadata": {},
     "output_type": "display_data"
    },
    {
     "data": {
      "text/html": [
       "<pre style=\"white-space:pre;overflow-x:auto;line-height:normal;font-family:Menlo,'DejaVu Sans Mono',consolas,'Courier New',monospace\">  File \n",
       "\"/Users/kaankarakeben/.pyenv/versions/3.8.0/lib/python3.8/site-packages/tornado/gen.py\", line\n",
       "234, in wrapper\n",
       "    yielded = ctx_run(next, result)\n",
       "</pre>\n"
      ],
      "text/plain": [
       "  File \n",
       "\"/Users/kaankarakeben/.pyenv/versions/3.8.0/lib/python3.8/site-packages/tornado/gen.py\", line\n",
       "234, in wrapper\n",
       "    yielded = ctx_run(next, result)\n"
      ]
     },
     "metadata": {},
     "output_type": "display_data"
    },
    {
     "data": {
      "text/html": [
       "<pre style=\"white-space:pre;overflow-x:auto;line-height:normal;font-family:Menlo,'DejaVu Sans Mono',consolas,'Courier New',monospace\">  File \"/Users/kaankarakeben/.pyenv/versions/3.8.0/lib/python3.8/site-packages/ipykernel/ipke\n",
       "rnel.py\", line 302, in do_execute\n",
       "    res = shell.run_cell(code, store_history=store_history, silent=silent)\n",
       "</pre>\n"
      ],
      "text/plain": [
       "  File \"/Users/kaankarakeben/.pyenv/versions/3.8.0/lib/python3.8/site-packages/ipykernel/ipke\n",
       "rnel.py\", line 302, in do_execute\n",
       "    res = shell.run_cell(code, store_history=store_history, silent=silent)\n"
      ]
     },
     "metadata": {},
     "output_type": "display_data"
    },
    {
     "data": {
      "text/html": [
       "<pre style=\"white-space:pre;overflow-x:auto;line-height:normal;font-family:Menlo,'DejaVu Sans Mono',consolas,'Courier New',monospace\">  File \"/Users/kaankarakeben/.pyenv/versions/3.8.0/lib/python3.8/site-packages/ipykernel/zmqs\n",
       "hell.py\", line 539, in run_cell\n",
       "    return super(ZMQInteractiveShell, self).run_cell(*args, **kwargs)\n",
       "</pre>\n"
      ],
      "text/plain": [
       "  File \"/Users/kaankarakeben/.pyenv/versions/3.8.0/lib/python3.8/site-packages/ipykernel/zmqs\n",
       "hell.py\", line 539, in run_cell\n",
       "    return super(ZMQInteractiveShell, self).run_cell(*args, **kwargs)\n"
      ]
     },
     "metadata": {},
     "output_type": "display_data"
    },
    {
     "data": {
      "text/html": [
       "<pre style=\"white-space:pre;overflow-x:auto;line-height:normal;font-family:Menlo,'DejaVu Sans Mono',consolas,'Courier New',monospace\">  File \"/Users/kaankarakeben/.pyenv/versions/3.8.0/lib/python3.8/site-packages/IPython/core/i\n",
       "nteractiveshell.py\", line 2881, in run_cell\n",
       "    result = self._run_cell(\n",
       "</pre>\n"
      ],
      "text/plain": [
       "  File \"/Users/kaankarakeben/.pyenv/versions/3.8.0/lib/python3.8/site-packages/IPython/core/i\n",
       "nteractiveshell.py\", line 2881, in run_cell\n",
       "    result = self._run_cell(\n"
      ]
     },
     "metadata": {},
     "output_type": "display_data"
    },
    {
     "data": {
      "text/html": [
       "<pre style=\"white-space:pre;overflow-x:auto;line-height:normal;font-family:Menlo,'DejaVu Sans Mono',consolas,'Courier New',monospace\">  File \"/Users/kaankarakeben/.pyenv/versions/3.8.0/lib/python3.8/site-packages/IPython/core/i\n",
       "nteractiveshell.py\", line 2936, in _run_cell\n",
       "    return runner(coro)\n",
       "</pre>\n"
      ],
      "text/plain": [
       "  File \"/Users/kaankarakeben/.pyenv/versions/3.8.0/lib/python3.8/site-packages/IPython/core/i\n",
       "nteractiveshell.py\", line 2936, in _run_cell\n",
       "    return runner(coro)\n"
      ]
     },
     "metadata": {},
     "output_type": "display_data"
    },
    {
     "data": {
      "text/html": [
       "<pre style=\"white-space:pre;overflow-x:auto;line-height:normal;font-family:Menlo,'DejaVu Sans Mono',consolas,'Courier New',monospace\">  File \"/Users/kaankarakeben/.pyenv/versions/3.8.0/lib/python3.8/site-packages/IPython/core/a\n",
       "sync_helpers.py\", line 129, in _pseudo_sync_runner\n",
       "    coro.send(None)\n",
       "</pre>\n"
      ],
      "text/plain": [
       "  File \"/Users/kaankarakeben/.pyenv/versions/3.8.0/lib/python3.8/site-packages/IPython/core/a\n",
       "sync_helpers.py\", line 129, in _pseudo_sync_runner\n",
       "    coro.send(None)\n"
      ]
     },
     "metadata": {},
     "output_type": "display_data"
    },
    {
     "data": {
      "text/html": [
       "<pre style=\"white-space:pre;overflow-x:auto;line-height:normal;font-family:Menlo,'DejaVu Sans Mono',consolas,'Courier New',monospace\">  File \"/Users/kaankarakeben/.pyenv/versions/3.8.0/lib/python3.8/site-packages/IPython/core/i\n",
       "nteractiveshell.py\", line 3135, in run_cell_async\n",
       "    has_raised = await self.run_ast_nodes(code_ast.body, cell_name,\n",
       "</pre>\n"
      ],
      "text/plain": [
       "  File \"/Users/kaankarakeben/.pyenv/versions/3.8.0/lib/python3.8/site-packages/IPython/core/i\n",
       "nteractiveshell.py\", line 3135, in run_cell_async\n",
       "    has_raised = await self.run_ast_nodes(code_ast.body, cell_name,\n"
      ]
     },
     "metadata": {},
     "output_type": "display_data"
    },
    {
     "data": {
      "text/html": [
       "<pre style=\"white-space:pre;overflow-x:auto;line-height:normal;font-family:Menlo,'DejaVu Sans Mono',consolas,'Courier New',monospace\">  File \"/Users/kaankarakeben/.pyenv/versions/3.8.0/lib/python3.8/site-packages/IPython/core/i\n",
       "nteractiveshell.py\", line 3338, in run_ast_nodes\n",
       "    if await self.run_code(code, result, async_=asy):\n",
       "</pre>\n"
      ],
      "text/plain": [
       "  File \"/Users/kaankarakeben/.pyenv/versions/3.8.0/lib/python3.8/site-packages/IPython/core/i\n",
       "nteractiveshell.py\", line 3338, in run_ast_nodes\n",
       "    if await self.run_code(code, result, async_=asy):\n"
      ]
     },
     "metadata": {},
     "output_type": "display_data"
    },
    {
     "data": {
      "text/html": [
       "<pre style=\"white-space:pre;overflow-x:auto;line-height:normal;font-family:Menlo,'DejaVu Sans Mono',consolas,'Courier New',monospace\">  File \"/Users/kaankarakeben/.pyenv/versions/3.8.0/lib/python3.8/site-packages/IPython/core/i\n",
       "nteractiveshell.py\", line 3398, in run_code\n",
       "    exec(code_obj, self.user_global_ns, self.user_ns)\n",
       "</pre>\n"
      ],
      "text/plain": [
       "  File \"/Users/kaankarakeben/.pyenv/versions/3.8.0/lib/python3.8/site-packages/IPython/core/i\n",
       "nteractiveshell.py\", line 3398, in run_code\n",
       "    exec(code_obj, self.user_global_ns, self.user_ns)\n"
      ]
     },
     "metadata": {},
     "output_type": "display_data"
    },
    {
     "data": {
      "text/html": [
       "<pre style=\"white-space:pre;overflow-x:auto;line-height:normal;font-family:Menlo,'DejaVu Sans Mono',consolas,'Courier New',monospace\">  File \"&lt;ipython-input-24-b1c611ca4dcf&gt;\", line 90, in &lt;cell line: 90&gt;\n",
       "    model = train()\n",
       "</pre>\n"
      ],
      "text/plain": [
       "  File \"<ipython-input-24-b1c611ca4dcf>\", line 90, in <cell line: 90>\n",
       "    model = train()\n"
      ]
     },
     "metadata": {},
     "output_type": "display_data"
    },
    {
     "data": {
      "text/html": [
       "<pre style=\"white-space:pre;overflow-x:auto;line-height:normal;font-family:Menlo,'DejaVu Sans Mono',consolas,'Courier New',monospace\">  File \"/Users/kaankarakeben/.pyenv/versions/3.8.0/lib/python3.8/site-packages/layer/decorato\n",
       "rs/pip_requirements_decorator.py\", line 44, in wrapper\n",
       "    return wrapped(*args, **kwargs)\n",
       "</pre>\n"
      ],
      "text/plain": [
       "  File \"/Users/kaankarakeben/.pyenv/versions/3.8.0/lib/python3.8/site-packages/layer/decorato\n",
       "rs/pip_requirements_decorator.py\", line 44, in wrapper\n",
       "    return wrapped(*args, **kwargs)\n"
      ]
     },
     "metadata": {},
     "output_type": "display_data"
    },
    {
     "data": {
      "text/html": [
       "<pre style=\"white-space:pre;overflow-x:auto;line-height:normal;font-family:Menlo,'DejaVu Sans Mono',consolas,'Courier New',monospace\">  File \"/Users/kaankarakeben/.pyenv/versions/3.8.0/lib/python3.8/site-packages/layer/decorato\n",
       "rs/fabric_decorator.py\", line 41, in wrapper\n",
       "    return wrapped(*args, **kwargs)\n",
       "</pre>\n"
      ],
      "text/plain": [
       "  File \"/Users/kaankarakeben/.pyenv/versions/3.8.0/lib/python3.8/site-packages/layer/decorato\n",
       "rs/fabric_decorator.py\", line 41, in wrapper\n",
       "    return wrapped(*args, **kwargs)\n"
      ]
     },
     "metadata": {},
     "output_type": "display_data"
    },
    {
     "data": {
      "text/html": [
       "<pre style=\"white-space:pre;overflow-x:auto;line-height:normal;font-family:Menlo,'DejaVu Sans Mono',consolas,'Courier New',monospace\">  File \"/Users/kaankarakeben/.pyenv/versions/3.8.0/lib/python3.8/site-packages/layer/decorato\n",
       "rs/model_decorator.py\", line 128, in __call__\n",
       "    return self._train_model_locally_and_store_remotely(\n",
       "</pre>\n"
      ],
      "text/plain": [
       "  File \"/Users/kaankarakeben/.pyenv/versions/3.8.0/lib/python3.8/site-packages/layer/decorato\n",
       "rs/model_decorator.py\", line 128, in __call__\n",
       "    return self._train_model_locally_and_store_remotely(\n"
      ]
     },
     "metadata": {},
     "output_type": "display_data"
    },
    {
     "data": {
      "text/html": [
       "<pre style=\"white-space:pre;overflow-x:auto;line-height:normal;font-family:Menlo,'DejaVu Sans Mono',consolas,'Courier New',monospace\">  File \"/Users/kaankarakeben/.pyenv/versions/3.8.0/lib/python3.8/site-packages/layer/decorato\n",
       "rs/model_decorator.py\", line 180, in _train_model_locally_and_store_remotely\n",
       "    return trainer.train()\n",
       "</pre>\n"
      ],
      "text/plain": [
       "  File \"/Users/kaankarakeben/.pyenv/versions/3.8.0/lib/python3.8/site-packages/layer/decorato\n",
       "rs/model_decorator.py\", line 180, in _train_model_locally_and_store_remotely\n",
       "    return trainer.train()\n"
      ]
     },
     "metadata": {},
     "output_type": "display_data"
    },
    {
     "data": {
      "text/html": [
       "<pre style=\"white-space:pre;overflow-x:auto;line-height:normal;font-family:Menlo,'DejaVu Sans Mono',consolas,'Courier New',monospace\">  File \"/Users/kaankarakeben/.pyenv/versions/3.8.0/lib/python3.8/site-packages/layer/training\n",
       "/runtime/model_trainer.py\", line 105, in train\n",
       "    return self._train(callback=self.failure_reporter.report_failure)\n",
       "</pre>\n"
      ],
      "text/plain": [
       "  File \"/Users/kaankarakeben/.pyenv/versions/3.8.0/lib/python3.8/site-packages/layer/training\n",
       "/runtime/model_trainer.py\", line 105, in train\n",
       "    return self._train(callback=self.failure_reporter.report_failure)\n"
      ]
     },
     "metadata": {},
     "output_type": "display_data"
    },
    {
     "data": {
      "text/html": [
       "<pre style=\"white-space:pre;overflow-x:auto;line-height:normal;font-family:Menlo,'DejaVu Sans Mono',consolas,'Courier New',monospace\">  File \"/Users/kaankarakeben/.pyenv/versions/3.8.0/lib/python3.8/site-packages/layer/exceptio\n",
       "ns/exception_handler.py\", line 31, in wrapper\n",
       "    return wrapped(*args, **kwargs)\n",
       "</pre>\n"
      ],
      "text/plain": [
       "  File \"/Users/kaankarakeben/.pyenv/versions/3.8.0/lib/python3.8/site-packages/layer/exceptio\n",
       "ns/exception_handler.py\", line 31, in wrapper\n",
       "    return wrapped(*args, **kwargs)\n"
      ]
     },
     "metadata": {},
     "output_type": "display_data"
    },
    {
     "data": {
      "text/html": [
       "<pre style=\"white-space:pre;overflow-x:auto;line-height:normal;font-family:Menlo,'DejaVu Sans Mono',consolas,'Courier New',monospace\">  File \"/Users/kaankarakeben/.pyenv/versions/3.8.0/lib/python3.8/site-packages/layer/training\n",
       "/runtime/model_trainer.py\", line 186, in _train\n",
       "    model = train_model_func()\n",
       "</pre>\n"
      ],
      "text/plain": [
       "  File \"/Users/kaankarakeben/.pyenv/versions/3.8.0/lib/python3.8/site-packages/layer/training\n",
       "/runtime/model_trainer.py\", line 186, in _train\n",
       "    model = train_model_func()\n"
      ]
     },
     "metadata": {},
     "output_type": "display_data"
    },
    {
     "data": {
      "text/html": [
       "<pre style=\"white-space:pre;overflow-x:auto;line-height:normal;font-family:Menlo,'DejaVu Sans Mono',consolas,'Courier New',monospace\">  File \"&lt;ipython-input-24-b1c611ca4dcf&gt;\", line 24, in train\n",
       "    model = BertForTokenClassification.from_pretrained('bert-base-uncased', \n",
       "num_labels=len(tag_to_ids))\n",
       "</pre>\n"
      ],
      "text/plain": [
       "  File \"<ipython-input-24-b1c611ca4dcf>\", line 24, in train\n",
       "    model = BertForTokenClassification.from_pretrained('bert-base-uncased', \n",
       "num_labels=len(tag_to_ids))\n"
      ]
     },
     "metadata": {},
     "output_type": "display_data"
    },
    {
     "data": {
      "text/html": [
       "<pre style=\"white-space:pre;overflow-x:auto;line-height:normal;font-family:Menlo,'DejaVu Sans Mono',consolas,'Courier New',monospace\">  File \"/Users/kaankarakeben/.pyenv/versions/3.8.0/lib/python3.8/site-packages/transformers/m\n",
       "odeling_utils.py\", line 1882, in from_pretrained\n",
       "    model, missing_keys, unexpected_keys, mismatched_keys, error_msgs = \n",
       "cls._load_pretrained_model(\n",
       "</pre>\n"
      ],
      "text/plain": [
       "  File \"/Users/kaankarakeben/.pyenv/versions/3.8.0/lib/python3.8/site-packages/transformers/m\n",
       "odeling_utils.py\", line 1882, in from_pretrained\n",
       "    model, missing_keys, unexpected_keys, mismatched_keys, error_msgs = \n",
       "cls._load_pretrained_model(\n"
      ]
     },
     "metadata": {},
     "output_type": "display_data"
    },
    {
     "data": {
      "text/html": [
       "<pre style=\"white-space:pre;overflow-x:auto;line-height:normal;font-family:Menlo,'DejaVu Sans Mono',consolas,'Courier New',monospace\">  File \"/Users/kaankarakeben/.pyenv/versions/3.8.0/lib/python3.8/site-packages/transformers/m\n",
       "odeling_utils.py\", line 2048, in _load_pretrained_model\n",
       "    logger.warning(\n",
       "</pre>\n"
      ],
      "text/plain": [
       "  File \"/Users/kaankarakeben/.pyenv/versions/3.8.0/lib/python3.8/site-packages/transformers/m\n",
       "odeling_utils.py\", line 2048, in _load_pretrained_model\n",
       "    logger.warning(\n"
      ]
     },
     "metadata": {},
     "output_type": "display_data"
    },
    {
     "data": {
      "text/html": [
       "<pre style=\"white-space:pre;overflow-x:auto;line-height:normal;font-family:Menlo,'DejaVu Sans Mono',consolas,'Courier New',monospace\">Message: \"Some weights of the model checkpoint at bert-base-uncased were not used when \n",
       "initializing BertForTokenClassification: ['cls.seq_relationship.bias', \n",
       "'cls.predictions.transform.dense.bias', 'cls.predictions.bias', \n",
       "'cls.predictions.transform.dense.weight', 'cls.predictions.transform.LayerNorm.bias', \n",
       "'cls.seq_relationship.weight', 'cls.predictions.decoder.weight', \n",
       "'cls.predictions.transform.LayerNorm.weight']\\n- This IS expected if you are initializing \n",
       "BertForTokenClassification from the checkpoint of a model trained on another task or with \n",
       "another architecture (e.g. initializing a BertForSequenceClassification model from a \n",
       "BertForPreTraining model).\\n- This IS NOT expected if you are initializing \n",
       "BertForTokenClassification from the checkpoint of a model that you expect to be exactly \n",
       "identical (initializing a BertForSequenceClassification model from a \n",
       "BertForSequenceClassification model).\"\n",
       "Arguments: ()\n",
       "</pre>\n"
      ],
      "text/plain": [
       "Message: \"Some weights of the model checkpoint at bert-base-uncased were not used when \n",
       "initializing BertForTokenClassification: ['cls.seq_relationship.bias', \n",
       "'cls.predictions.transform.dense.bias', 'cls.predictions.bias', \n",
       "'cls.predictions.transform.dense.weight', 'cls.predictions.transform.LayerNorm.bias', \n",
       "'cls.seq_relationship.weight', 'cls.predictions.decoder.weight', \n",
       "'cls.predictions.transform.LayerNorm.weight']\\n- This IS expected if you are initializing \n",
       "BertForTokenClassification from the checkpoint of a model trained on another task or with \n",
       "another architecture (e.g. initializing a BertForSequenceClassification model from a \n",
       "BertForPreTraining model).\\n- This IS NOT expected if you are initializing \n",
       "BertForTokenClassification from the checkpoint of a model that you expect to be exactly \n",
       "identical (initializing a BertForSequenceClassification model from a \n",
       "BertForSequenceClassification model).\"\n",
       "Arguments: ()\n"
      ]
     },
     "metadata": {},
     "output_type": "display_data"
    },
    {
     "data": {
      "text/html": [
       "<pre style=\"white-space:pre;overflow-x:auto;line-height:normal;font-family:Menlo,'DejaVu Sans Mono',consolas,'Courier New',monospace\">--- Logging error ---\n",
       "</pre>\n"
      ],
      "text/plain": [
       "--- Logging error ---\n"
      ]
     },
     "metadata": {},
     "output_type": "display_data"
    },
    {
     "data": {
      "text/html": [
       "<pre style=\"white-space:pre;overflow-x:auto;line-height:normal;font-family:Menlo,'DejaVu Sans Mono',consolas,'Courier New',monospace\">Traceback (most recent call last):\n",
       "</pre>\n"
      ],
      "text/plain": [
       "Traceback (most recent call last):\n"
      ]
     },
     "metadata": {},
     "output_type": "display_data"
    },
    {
     "data": {
      "text/html": [
       "<pre style=\"white-space:pre;overflow-x:auto;line-height:normal;font-family:Menlo,'DejaVu Sans Mono',consolas,'Courier New',monospace\">  File \"/Users/kaankarakeben/.pyenv/versions/3.8.0/lib/python3.8/logging/__init__.py\", line \n",
       "1084, in emit\n",
       "    stream.write(msg + self.terminator)\n",
       "</pre>\n"
      ],
      "text/plain": [
       "  File \"/Users/kaankarakeben/.pyenv/versions/3.8.0/lib/python3.8/logging/__init__.py\", line \n",
       "1084, in emit\n",
       "    stream.write(msg + self.terminator)\n"
      ]
     },
     "metadata": {},
     "output_type": "display_data"
    },
    {
     "data": {
      "text/html": [
       "<pre style=\"white-space:pre;overflow-x:auto;line-height:normal;font-family:Menlo,'DejaVu Sans Mono',consolas,'Courier New',monospace\">  File \"/Users/kaankarakeben/.pyenv/versions/3.8.0/lib/python3.8/site-packages/ipykernel/iost\n",
       "ream.py\", line 394, in write\n",
       "    raise ValueError('I/O operation on closed file')\n",
       "</pre>\n"
      ],
      "text/plain": [
       "  File \"/Users/kaankarakeben/.pyenv/versions/3.8.0/lib/python3.8/site-packages/ipykernel/iost\n",
       "ream.py\", line 394, in write\n",
       "    raise ValueError('I/O operation on closed file')\n"
      ]
     },
     "metadata": {},
     "output_type": "display_data"
    },
    {
     "data": {
      "text/html": [
       "<pre style=\"white-space:pre;overflow-x:auto;line-height:normal;font-family:Menlo,'DejaVu Sans Mono',consolas,'Courier New',monospace\">ValueError: I/O operation on closed file\n",
       "</pre>\n"
      ],
      "text/plain": [
       "ValueError: I/O operation on closed file\n"
      ]
     },
     "metadata": {},
     "output_type": "display_data"
    },
    {
     "data": {
      "text/html": [
       "<pre style=\"white-space:pre;overflow-x:auto;line-height:normal;font-family:Menlo,'DejaVu Sans Mono',consolas,'Courier New',monospace\">Call stack:\n",
       "</pre>\n"
      ],
      "text/plain": [
       "Call stack:\n"
      ]
     },
     "metadata": {},
     "output_type": "display_data"
    },
    {
     "data": {
      "text/html": [
       "<pre style=\"white-space:pre;overflow-x:auto;line-height:normal;font-family:Menlo,'DejaVu Sans Mono',consolas,'Courier New',monospace\">  File \"/Users/kaankarakeben/.pyenv/versions/3.8.0/lib/python3.8/runpy.py\", line 192, in \n",
       "_run_module_as_main\n",
       "    return _run_code(code, main_globals, None,\n",
       "</pre>\n"
      ],
      "text/plain": [
       "  File \"/Users/kaankarakeben/.pyenv/versions/3.8.0/lib/python3.8/runpy.py\", line 192, in \n",
       "_run_module_as_main\n",
       "    return _run_code(code, main_globals, None,\n"
      ]
     },
     "metadata": {},
     "output_type": "display_data"
    },
    {
     "data": {
      "text/html": [
       "<pre style=\"white-space:pre;overflow-x:auto;line-height:normal;font-family:Menlo,'DejaVu Sans Mono',consolas,'Courier New',monospace\">  File \"/Users/kaankarakeben/.pyenv/versions/3.8.0/lib/python3.8/runpy.py\", line 85, in \n",
       "_run_code\n",
       "    exec(code, run_globals)\n",
       "</pre>\n"
      ],
      "text/plain": [
       "  File \"/Users/kaankarakeben/.pyenv/versions/3.8.0/lib/python3.8/runpy.py\", line 85, in \n",
       "_run_code\n",
       "    exec(code, run_globals)\n"
      ]
     },
     "metadata": {},
     "output_type": "display_data"
    },
    {
     "data": {
      "text/html": [
       "<pre style=\"white-space:pre;overflow-x:auto;line-height:normal;font-family:Menlo,'DejaVu Sans Mono',consolas,'Courier New',monospace\">  File \"/Users/kaankarakeben/.pyenv/versions/3.8.0/lib/python3.8/site-packages/ipykernel_laun\n",
       "cher.py\", line 16, in &lt;module&gt;\n",
       "    app.launch_new_instance()\n",
       "</pre>\n"
      ],
      "text/plain": [
       "  File \"/Users/kaankarakeben/.pyenv/versions/3.8.0/lib/python3.8/site-packages/ipykernel_laun\n",
       "cher.py\", line 16, in <module>\n",
       "    app.launch_new_instance()\n"
      ]
     },
     "metadata": {},
     "output_type": "display_data"
    },
    {
     "data": {
      "text/html": [
       "<pre style=\"white-space:pre;overflow-x:auto;line-height:normal;font-family:Menlo,'DejaVu Sans Mono',consolas,'Courier New',monospace\">  File \"/Users/kaankarakeben/.pyenv/versions/3.8.0/lib/python3.8/site-packages/traitlets/conf\n",
       "ig/application.py\", line 845, in launch_instance\n",
       "    app.start()\n",
       "</pre>\n"
      ],
      "text/plain": [
       "  File \"/Users/kaankarakeben/.pyenv/versions/3.8.0/lib/python3.8/site-packages/traitlets/conf\n",
       "ig/application.py\", line 845, in launch_instance\n",
       "    app.start()\n"
      ]
     },
     "metadata": {},
     "output_type": "display_data"
    },
    {
     "data": {
      "text/html": [
       "<pre style=\"white-space:pre;overflow-x:auto;line-height:normal;font-family:Menlo,'DejaVu Sans Mono',consolas,'Courier New',monospace\">  File \"/Users/kaankarakeben/.pyenv/versions/3.8.0/lib/python3.8/site-packages/ipykernel/kern\n",
       "elapp.py\", line 612, in start\n",
       "    self.io_loop.start()\n",
       "</pre>\n"
      ],
      "text/plain": [
       "  File \"/Users/kaankarakeben/.pyenv/versions/3.8.0/lib/python3.8/site-packages/ipykernel/kern\n",
       "elapp.py\", line 612, in start\n",
       "    self.io_loop.start()\n"
      ]
     },
     "metadata": {},
     "output_type": "display_data"
    },
    {
     "data": {
      "text/html": [
       "<pre style=\"white-space:pre;overflow-x:auto;line-height:normal;font-family:Menlo,'DejaVu Sans Mono',consolas,'Courier New',monospace\">  File \"/Users/kaankarakeben/.pyenv/versions/3.8.0/lib/python3.8/site-packages/tornado/platfo\n",
       "rm/asyncio.py\", line 199, in start\n",
       "    self.asyncio_loop.run_forever()\n",
       "</pre>\n"
      ],
      "text/plain": [
       "  File \"/Users/kaankarakeben/.pyenv/versions/3.8.0/lib/python3.8/site-packages/tornado/platfo\n",
       "rm/asyncio.py\", line 199, in start\n",
       "    self.asyncio_loop.run_forever()\n"
      ]
     },
     "metadata": {},
     "output_type": "display_data"
    },
    {
     "data": {
      "text/html": [
       "<pre style=\"white-space:pre;overflow-x:auto;line-height:normal;font-family:Menlo,'DejaVu Sans Mono',consolas,'Courier New',monospace\">  File \"/Users/kaankarakeben/.pyenv/versions/3.8.0/lib/python3.8/asyncio/base_events.py\", \n",
       "line 563, in run_forever\n",
       "    self._run_once()\n",
       "</pre>\n"
      ],
      "text/plain": [
       "  File \"/Users/kaankarakeben/.pyenv/versions/3.8.0/lib/python3.8/asyncio/base_events.py\", \n",
       "line 563, in run_forever\n",
       "    self._run_once()\n"
      ]
     },
     "metadata": {},
     "output_type": "display_data"
    },
    {
     "data": {
      "text/html": [
       "<pre style=\"white-space:pre;overflow-x:auto;line-height:normal;font-family:Menlo,'DejaVu Sans Mono',consolas,'Courier New',monospace\">  File \"/Users/kaankarakeben/.pyenv/versions/3.8.0/lib/python3.8/asyncio/base_events.py\", \n",
       "line 1844, in _run_once\n",
       "    handle._run()\n",
       "</pre>\n"
      ],
      "text/plain": [
       "  File \"/Users/kaankarakeben/.pyenv/versions/3.8.0/lib/python3.8/asyncio/base_events.py\", \n",
       "line 1844, in _run_once\n",
       "    handle._run()\n"
      ]
     },
     "metadata": {},
     "output_type": "display_data"
    },
    {
     "data": {
      "text/html": [
       "<pre style=\"white-space:pre;overflow-x:auto;line-height:normal;font-family:Menlo,'DejaVu Sans Mono',consolas,'Courier New',monospace\">  File \"/Users/kaankarakeben/.pyenv/versions/3.8.0/lib/python3.8/asyncio/events.py\", line 81,\n",
       "in _run\n",
       "    self._context.run(self._callback, *self._args)\n",
       "</pre>\n"
      ],
      "text/plain": [
       "  File \"/Users/kaankarakeben/.pyenv/versions/3.8.0/lib/python3.8/asyncio/events.py\", line 81,\n",
       "in _run\n",
       "    self._context.run(self._callback, *self._args)\n"
      ]
     },
     "metadata": {},
     "output_type": "display_data"
    },
    {
     "data": {
      "text/html": [
       "<pre style=\"white-space:pre;overflow-x:auto;line-height:normal;font-family:Menlo,'DejaVu Sans Mono',consolas,'Courier New',monospace\">  File \n",
       "\"/Users/kaankarakeben/.pyenv/versions/3.8.0/lib/python3.8/site-packages/tornado/ioloop.py\", \n",
       "line 688, in &lt;lambda&gt;\n",
       "    lambda f: self._run_callback(functools.partial(callback, future))\n",
       "</pre>\n"
      ],
      "text/plain": [
       "  File \n",
       "\"/Users/kaankarakeben/.pyenv/versions/3.8.0/lib/python3.8/site-packages/tornado/ioloop.py\", \n",
       "line 688, in <lambda>\n",
       "    lambda f: self._run_callback(functools.partial(callback, future))\n"
      ]
     },
     "metadata": {},
     "output_type": "display_data"
    },
    {
     "data": {
      "text/html": [
       "<pre style=\"white-space:pre;overflow-x:auto;line-height:normal;font-family:Menlo,'DejaVu Sans Mono',consolas,'Courier New',monospace\">  File \n",
       "\"/Users/kaankarakeben/.pyenv/versions/3.8.0/lib/python3.8/site-packages/tornado/ioloop.py\", \n",
       "line 741, in _run_callback\n",
       "    ret = callback()\n",
       "</pre>\n"
      ],
      "text/plain": [
       "  File \n",
       "\"/Users/kaankarakeben/.pyenv/versions/3.8.0/lib/python3.8/site-packages/tornado/ioloop.py\", \n",
       "line 741, in _run_callback\n",
       "    ret = callback()\n"
      ]
     },
     "metadata": {},
     "output_type": "display_data"
    },
    {
     "data": {
      "text/html": [
       "<pre style=\"white-space:pre;overflow-x:auto;line-height:normal;font-family:Menlo,'DejaVu Sans Mono',consolas,'Courier New',monospace\">  File \n",
       "\"/Users/kaankarakeben/.pyenv/versions/3.8.0/lib/python3.8/site-packages/tornado/gen.py\", line\n",
       "814, in inner\n",
       "    self.ctx_run(self.run)\n",
       "</pre>\n"
      ],
      "text/plain": [
       "  File \n",
       "\"/Users/kaankarakeben/.pyenv/versions/3.8.0/lib/python3.8/site-packages/tornado/gen.py\", line\n",
       "814, in inner\n",
       "    self.ctx_run(self.run)\n"
      ]
     },
     "metadata": {},
     "output_type": "display_data"
    },
    {
     "data": {
      "text/html": [
       "<pre style=\"white-space:pre;overflow-x:auto;line-height:normal;font-family:Menlo,'DejaVu Sans Mono',consolas,'Courier New',monospace\">  File \n",
       "\"/Users/kaankarakeben/.pyenv/versions/3.8.0/lib/python3.8/site-packages/tornado/gen.py\", line\n",
       "775, in run\n",
       "    yielded = self.gen.send(value)\n",
       "</pre>\n"
      ],
      "text/plain": [
       "  File \n",
       "\"/Users/kaankarakeben/.pyenv/versions/3.8.0/lib/python3.8/site-packages/tornado/gen.py\", line\n",
       "775, in run\n",
       "    yielded = self.gen.send(value)\n"
      ]
     },
     "metadata": {},
     "output_type": "display_data"
    },
    {
     "data": {
      "text/html": [
       "<pre style=\"white-space:pre;overflow-x:auto;line-height:normal;font-family:Menlo,'DejaVu Sans Mono',consolas,'Courier New',monospace\">  File \"/Users/kaankarakeben/.pyenv/versions/3.8.0/lib/python3.8/site-packages/ipykernel/kern\n",
       "elbase.py\", line 358, in process_one\n",
       "    yield gen.maybe_future(dispatch(*args))\n",
       "</pre>\n"
      ],
      "text/plain": [
       "  File \"/Users/kaankarakeben/.pyenv/versions/3.8.0/lib/python3.8/site-packages/ipykernel/kern\n",
       "elbase.py\", line 358, in process_one\n",
       "    yield gen.maybe_future(dispatch(*args))\n"
      ]
     },
     "metadata": {},
     "output_type": "display_data"
    },
    {
     "data": {
      "text/html": [
       "<pre style=\"white-space:pre;overflow-x:auto;line-height:normal;font-family:Menlo,'DejaVu Sans Mono',consolas,'Courier New',monospace\">  File \"/Users/kaankarakeben/.pyenv/versions/3.8.0/lib/python3.8/site-packages/ipykernel/ipke\n",
       "rnel.py\", line 302, in do_execute\n",
       "    res = shell.run_cell(code, store_history=store_history, silent=silent)\n",
       "</pre>\n"
      ],
      "text/plain": [
       "  File \"/Users/kaankarakeben/.pyenv/versions/3.8.0/lib/python3.8/site-packages/ipykernel/ipke\n",
       "rnel.py\", line 302, in do_execute\n",
       "    res = shell.run_cell(code, store_history=store_history, silent=silent)\n"
      ]
     },
     "metadata": {},
     "output_type": "display_data"
    },
    {
     "data": {
      "text/html": [
       "<pre style=\"white-space:pre;overflow-x:auto;line-height:normal;font-family:Menlo,'DejaVu Sans Mono',consolas,'Courier New',monospace\">  File \"/Users/kaankarakeben/.pyenv/versions/3.8.0/lib/python3.8/site-packages/ipykernel/zmqs\n",
       "hell.py\", line 539, in run_cell\n",
       "    return super(ZMQInteractiveShell, self).run_cell(*args, **kwargs)\n",
       "</pre>\n"
      ],
      "text/plain": [
       "  File \"/Users/kaankarakeben/.pyenv/versions/3.8.0/lib/python3.8/site-packages/ipykernel/zmqs\n",
       "hell.py\", line 539, in run_cell\n",
       "    return super(ZMQInteractiveShell, self).run_cell(*args, **kwargs)\n"
      ]
     },
     "metadata": {},
     "output_type": "display_data"
    },
    {
     "data": {
      "text/html": [
       "<pre style=\"white-space:pre;overflow-x:auto;line-height:normal;font-family:Menlo,'DejaVu Sans Mono',consolas,'Courier New',monospace\">  File \"/Users/kaankarakeben/.pyenv/versions/3.8.0/lib/python3.8/site-packages/IPython/core/i\n",
       "nteractiveshell.py\", line 2881, in run_cell\n",
       "    result = self._run_cell(\n",
       "</pre>\n"
      ],
      "text/plain": [
       "  File \"/Users/kaankarakeben/.pyenv/versions/3.8.0/lib/python3.8/site-packages/IPython/core/i\n",
       "nteractiveshell.py\", line 2881, in run_cell\n",
       "    result = self._run_cell(\n"
      ]
     },
     "metadata": {},
     "output_type": "display_data"
    },
    {
     "data": {
      "text/html": [
       "<pre style=\"white-space:pre;overflow-x:auto;line-height:normal;font-family:Menlo,'DejaVu Sans Mono',consolas,'Courier New',monospace\">  File \"/Users/kaankarakeben/.pyenv/versions/3.8.0/lib/python3.8/site-packages/IPython/core/i\n",
       "nteractiveshell.py\", line 2936, in _run_cell\n",
       "    return runner(coro)\n",
       "</pre>\n"
      ],
      "text/plain": [
       "  File \"/Users/kaankarakeben/.pyenv/versions/3.8.0/lib/python3.8/site-packages/IPython/core/i\n",
       "nteractiveshell.py\", line 2936, in _run_cell\n",
       "    return runner(coro)\n"
      ]
     },
     "metadata": {},
     "output_type": "display_data"
    },
    {
     "data": {
      "text/html": [
       "<pre style=\"white-space:pre;overflow-x:auto;line-height:normal;font-family:Menlo,'DejaVu Sans Mono',consolas,'Courier New',monospace\">  File \"/Users/kaankarakeben/.pyenv/versions/3.8.0/lib/python3.8/site-packages/IPython/core/a\n",
       "sync_helpers.py\", line 129, in _pseudo_sync_runner\n",
       "    coro.send(None)\n",
       "</pre>\n"
      ],
      "text/plain": [
       "  File \"/Users/kaankarakeben/.pyenv/versions/3.8.0/lib/python3.8/site-packages/IPython/core/a\n",
       "sync_helpers.py\", line 129, in _pseudo_sync_runner\n",
       "    coro.send(None)\n"
      ]
     },
     "metadata": {},
     "output_type": "display_data"
    },
    {
     "data": {
      "text/html": [
       "<pre style=\"white-space:pre;overflow-x:auto;line-height:normal;font-family:Menlo,'DejaVu Sans Mono',consolas,'Courier New',monospace\">  File \"/Users/kaankarakeben/.pyenv/versions/3.8.0/lib/python3.8/site-packages/IPython/core/i\n",
       "nteractiveshell.py\", line 3135, in run_cell_async\n",
       "    has_raised = await self.run_ast_nodes(code_ast.body, cell_name,\n",
       "</pre>\n"
      ],
      "text/plain": [
       "  File \"/Users/kaankarakeben/.pyenv/versions/3.8.0/lib/python3.8/site-packages/IPython/core/i\n",
       "nteractiveshell.py\", line 3135, in run_cell_async\n",
       "    has_raised = await self.run_ast_nodes(code_ast.body, cell_name,\n"
      ]
     },
     "metadata": {},
     "output_type": "display_data"
    },
    {
     "data": {
      "text/html": [
       "<pre style=\"white-space:pre;overflow-x:auto;line-height:normal;font-family:Menlo,'DejaVu Sans Mono',consolas,'Courier New',monospace\">  File \"/Users/kaankarakeben/.pyenv/versions/3.8.0/lib/python3.8/site-packages/IPython/core/i\n",
       "nteractiveshell.py\", line 3338, in run_ast_nodes\n",
       "    if await self.run_code(code, result, async_=asy):\n",
       "</pre>\n"
      ],
      "text/plain": [
       "  File \"/Users/kaankarakeben/.pyenv/versions/3.8.0/lib/python3.8/site-packages/IPython/core/i\n",
       "nteractiveshell.py\", line 3338, in run_ast_nodes\n",
       "    if await self.run_code(code, result, async_=asy):\n"
      ]
     },
     "metadata": {},
     "output_type": "display_data"
    },
    {
     "data": {
      "text/html": [
       "<pre style=\"white-space:pre;overflow-x:auto;line-height:normal;font-family:Menlo,'DejaVu Sans Mono',consolas,'Courier New',monospace\">  File \"/Users/kaankarakeben/.pyenv/versions/3.8.0/lib/python3.8/site-packages/IPython/core/i\n",
       "nteractiveshell.py\", line 3398, in run_code\n",
       "    exec(code_obj, self.user_global_ns, self.user_ns)\n",
       "</pre>\n"
      ],
      "text/plain": [
       "  File \"/Users/kaankarakeben/.pyenv/versions/3.8.0/lib/python3.8/site-packages/IPython/core/i\n",
       "nteractiveshell.py\", line 3398, in run_code\n",
       "    exec(code_obj, self.user_global_ns, self.user_ns)\n"
      ]
     },
     "metadata": {},
     "output_type": "display_data"
    },
    {
     "data": {
      "text/html": [
       "<pre style=\"white-space:pre;overflow-x:auto;line-height:normal;font-family:Menlo,'DejaVu Sans Mono',consolas,'Courier New',monospace\">  File \"&lt;ipython-input-24-b1c611ca4dcf&gt;\", line 90, in &lt;cell line: 90&gt;\n",
       "    model = train()\n",
       "</pre>\n"
      ],
      "text/plain": [
       "  File \"<ipython-input-24-b1c611ca4dcf>\", line 90, in <cell line: 90>\n",
       "    model = train()\n"
      ]
     },
     "metadata": {},
     "output_type": "display_data"
    },
    {
     "data": {
      "text/html": [
       "<pre style=\"white-space:pre;overflow-x:auto;line-height:normal;font-family:Menlo,'DejaVu Sans Mono',consolas,'Courier New',monospace\">  File \"/Users/kaankarakeben/.pyenv/versions/3.8.0/lib/python3.8/site-packages/layer/decorato\n",
       "rs/pip_requirements_decorator.py\", line 44, in wrapper\n",
       "    return wrapped(*args, **kwargs)\n",
       "</pre>\n"
      ],
      "text/plain": [
       "  File \"/Users/kaankarakeben/.pyenv/versions/3.8.0/lib/python3.8/site-packages/layer/decorato\n",
       "rs/pip_requirements_decorator.py\", line 44, in wrapper\n",
       "    return wrapped(*args, **kwargs)\n"
      ]
     },
     "metadata": {},
     "output_type": "display_data"
    },
    {
     "data": {
      "text/html": [
       "<pre style=\"white-space:pre;overflow-x:auto;line-height:normal;font-family:Menlo,'DejaVu Sans Mono',consolas,'Courier New',monospace\">  File \"/Users/kaankarakeben/.pyenv/versions/3.8.0/lib/python3.8/site-packages/layer/decorato\n",
       "rs/fabric_decorator.py\", line 41, in wrapper\n",
       "    return wrapped(*args, **kwargs)\n",
       "</pre>\n"
      ],
      "text/plain": [
       "  File \"/Users/kaankarakeben/.pyenv/versions/3.8.0/lib/python3.8/site-packages/layer/decorato\n",
       "rs/fabric_decorator.py\", line 41, in wrapper\n",
       "    return wrapped(*args, **kwargs)\n"
      ]
     },
     "metadata": {},
     "output_type": "display_data"
    },
    {
     "data": {
      "text/html": [
       "<pre style=\"white-space:pre;overflow-x:auto;line-height:normal;font-family:Menlo,'DejaVu Sans Mono',consolas,'Courier New',monospace\">  File \"/Users/kaankarakeben/.pyenv/versions/3.8.0/lib/python3.8/site-packages/layer/decorato\n",
       "rs/model_decorator.py\", line 128, in __call__\n",
       "    return self._train_model_locally_and_store_remotely(\n",
       "</pre>\n"
      ],
      "text/plain": [
       "  File \"/Users/kaankarakeben/.pyenv/versions/3.8.0/lib/python3.8/site-packages/layer/decorato\n",
       "rs/model_decorator.py\", line 128, in __call__\n",
       "    return self._train_model_locally_and_store_remotely(\n"
      ]
     },
     "metadata": {},
     "output_type": "display_data"
    },
    {
     "data": {
      "text/html": [
       "<pre style=\"white-space:pre;overflow-x:auto;line-height:normal;font-family:Menlo,'DejaVu Sans Mono',consolas,'Courier New',monospace\">  File \"/Users/kaankarakeben/.pyenv/versions/3.8.0/lib/python3.8/site-packages/layer/decorato\n",
       "rs/model_decorator.py\", line 180, in _train_model_locally_and_store_remotely\n",
       "    return trainer.train()\n",
       "</pre>\n"
      ],
      "text/plain": [
       "  File \"/Users/kaankarakeben/.pyenv/versions/3.8.0/lib/python3.8/site-packages/layer/decorato\n",
       "rs/model_decorator.py\", line 180, in _train_model_locally_and_store_remotely\n",
       "    return trainer.train()\n"
      ]
     },
     "metadata": {},
     "output_type": "display_data"
    },
    {
     "data": {
      "text/html": [
       "<pre style=\"white-space:pre;overflow-x:auto;line-height:normal;font-family:Menlo,'DejaVu Sans Mono',consolas,'Courier New',monospace\">  File \"/Users/kaankarakeben/.pyenv/versions/3.8.0/lib/python3.8/site-packages/layer/training\n",
       "/runtime/model_trainer.py\", line 105, in train\n",
       "    return self._train(callback=self.failure_reporter.report_failure)\n",
       "</pre>\n"
      ],
      "text/plain": [
       "  File \"/Users/kaankarakeben/.pyenv/versions/3.8.0/lib/python3.8/site-packages/layer/training\n",
       "/runtime/model_trainer.py\", line 105, in train\n",
       "    return self._train(callback=self.failure_reporter.report_failure)\n"
      ]
     },
     "metadata": {},
     "output_type": "display_data"
    },
    {
     "data": {
      "text/html": [
       "<pre style=\"white-space:pre;overflow-x:auto;line-height:normal;font-family:Menlo,'DejaVu Sans Mono',consolas,'Courier New',monospace\">  File \"/Users/kaankarakeben/.pyenv/versions/3.8.0/lib/python3.8/site-packages/layer/exceptio\n",
       "ns/exception_handler.py\", line 31, in wrapper\n",
       "    return wrapped(*args, **kwargs)\n",
       "</pre>\n"
      ],
      "text/plain": [
       "  File \"/Users/kaankarakeben/.pyenv/versions/3.8.0/lib/python3.8/site-packages/layer/exceptio\n",
       "ns/exception_handler.py\", line 31, in wrapper\n",
       "    return wrapped(*args, **kwargs)\n"
      ]
     },
     "metadata": {},
     "output_type": "display_data"
    },
    {
     "data": {
      "text/html": [
       "<pre style=\"white-space:pre;overflow-x:auto;line-height:normal;font-family:Menlo,'DejaVu Sans Mono',consolas,'Courier New',monospace\">  File \"/Users/kaankarakeben/.pyenv/versions/3.8.0/lib/python3.8/site-packages/layer/training\n",
       "/runtime/model_trainer.py\", line 186, in _train\n",
       "    model = train_model_func()\n",
       "</pre>\n"
      ],
      "text/plain": [
       "  File \"/Users/kaankarakeben/.pyenv/versions/3.8.0/lib/python3.8/site-packages/layer/training\n",
       "/runtime/model_trainer.py\", line 186, in _train\n",
       "    model = train_model_func()\n"
      ]
     },
     "metadata": {},
     "output_type": "display_data"
    },
    {
     "data": {
      "text/html": [
       "<pre style=\"white-space:pre;overflow-x:auto;line-height:normal;font-family:Menlo,'DejaVu Sans Mono',consolas,'Courier New',monospace\">  File \"&lt;ipython-input-24-b1c611ca4dcf&gt;\", line 24, in train\n",
       "    model = BertForTokenClassification.from_pretrained('bert-base-uncased', \n",
       "num_labels=len(tag_to_ids))\n",
       "</pre>\n"
      ],
      "text/plain": [
       "  File \"<ipython-input-24-b1c611ca4dcf>\", line 24, in train\n",
       "    model = BertForTokenClassification.from_pretrained('bert-base-uncased', \n",
       "num_labels=len(tag_to_ids))\n"
      ]
     },
     "metadata": {},
     "output_type": "display_data"
    },
    {
     "data": {
      "text/html": [
       "<pre style=\"white-space:pre;overflow-x:auto;line-height:normal;font-family:Menlo,'DejaVu Sans Mono',consolas,'Courier New',monospace\">  File \"/Users/kaankarakeben/.pyenv/versions/3.8.0/lib/python3.8/site-packages/transformers/m\n",
       "odeling_utils.py\", line 1882, in from_pretrained\n",
       "    model, missing_keys, unexpected_keys, mismatched_keys, error_msgs = \n",
       "cls._load_pretrained_model(\n",
       "</pre>\n"
      ],
      "text/plain": [
       "  File \"/Users/kaankarakeben/.pyenv/versions/3.8.0/lib/python3.8/site-packages/transformers/m\n",
       "odeling_utils.py\", line 1882, in from_pretrained\n",
       "    model, missing_keys, unexpected_keys, mismatched_keys, error_msgs = \n",
       "cls._load_pretrained_model(\n"
      ]
     },
     "metadata": {},
     "output_type": "display_data"
    },
    {
     "data": {
      "text/html": [
       "<pre style=\"white-space:pre;overflow-x:auto;line-height:normal;font-family:Menlo,'DejaVu Sans Mono',consolas,'Courier New',monospace\">  File \"/Users/kaankarakeben/.pyenv/versions/3.8.0/lib/python3.8/site-packages/transformers/m\n",
       "odeling_utils.py\", line 2059, in _load_pretrained_model\n",
       "    logger.warning(\n",
       "</pre>\n"
      ],
      "text/plain": [
       "  File \"/Users/kaankarakeben/.pyenv/versions/3.8.0/lib/python3.8/site-packages/transformers/m\n",
       "odeling_utils.py\", line 2059, in _load_pretrained_model\n",
       "    logger.warning(\n"
      ]
     },
     "metadata": {},
     "output_type": "display_data"
    },
    {
     "data": {
      "text/html": [
       "<pre style=\"white-space:pre;overflow-x:auto;line-height:normal;font-family:Menlo,'DejaVu Sans Mono',consolas,'Courier New',monospace\">Message: \"Some weights of BertForTokenClassification were not initialized from the model \n",
       "checkpoint at bert-base-uncased and are newly initialized: ['classifier.bias', \n",
       "'classifier.weight']\\nYou should probably TRAIN this model on a down-stream task to be able \n",
       "to use it for predictions and inference.\"\n",
       "Arguments: ()\n",
       "</pre>\n"
      ],
      "text/plain": [
       "Message: \"Some weights of BertForTokenClassification were not initialized from the model \n",
       "checkpoint at bert-base-uncased and are newly initialized: ['classifier.bias', \n",
       "'classifier.weight']\\nYou should probably TRAIN this model on a down-stream task to be able \n",
       "to use it for predictions and inference.\"\n",
       "Arguments: ()\n"
      ]
     },
     "metadata": {},
     "output_type": "display_data"
    },
    {
     "data": {
      "text/html": [
       "<pre style=\"white-space:pre;overflow-x:auto;line-height:normal;font-family:Menlo,'DejaVu Sans Mono',consolas,'Courier New',monospace\">Training epoch: 1\n",
       "</pre>\n"
      ],
      "text/plain": [
       "Training epoch: 1\n"
      ]
     },
     "metadata": {},
     "output_type": "display_data"
    },
    {
     "data": {
      "text/html": [
       "<pre style=\"white-space:pre;overflow-x:auto;line-height:normal;font-family:Menlo,'DejaVu Sans Mono',consolas,'Courier New',monospace\">Training loss per 100 training steps: 1.3605648279190063\n",
       "</pre>\n"
      ],
      "text/plain": [
       "Training loss per 100 training steps: 1.3605648279190063\n"
      ]
     },
     "metadata": {},
     "output_type": "display_data"
    },
    {
     "data": {
      "text/html": [
       "<pre style=\"white-space:pre;overflow-x:auto;line-height:normal;font-family:Menlo,'DejaVu Sans Mono',consolas,'Courier New',monospace\">Training loss per 100 training steps: 0.3878397369148708\n",
       "</pre>\n"
      ],
      "text/plain": [
       "Training loss per 100 training steps: 0.3878397369148708\n"
      ]
     },
     "metadata": {},
     "output_type": "display_data"
    },
    {
     "data": {
      "text/html": [
       "<pre style=\"white-space:pre;overflow-x:auto;line-height:normal;font-family:Menlo,'DejaVu Sans Mono',consolas,'Courier New',monospace\">Training loss per 100 training steps: 0.263136461367877\n",
       "</pre>\n"
      ],
      "text/plain": [
       "Training loss per 100 training steps: 0.263136461367877\n"
      ]
     },
     "metadata": {},
     "output_type": "display_data"
    },
    {
     "data": {
      "text/html": [
       "<pre style=\"white-space:pre;overflow-x:auto;line-height:normal;font-family:Menlo,'DejaVu Sans Mono',consolas,'Courier New',monospace\">Training loss per 100 training steps: 0.21453572345891367\n",
       "</pre>\n"
      ],
      "text/plain": [
       "Training loss per 100 training steps: 0.21453572345891367\n"
      ]
     },
     "metadata": {},
     "output_type": "display_data"
    },
    {
     "data": {
      "text/html": [
       "<pre style=\"white-space:pre;overflow-x:auto;line-height:normal;font-family:Menlo,'DejaVu Sans Mono',consolas,'Courier New',monospace\">Training loss per 100 training steps: 0.18082121476017757\n",
       "</pre>\n"
      ],
      "text/plain": [
       "Training loss per 100 training steps: 0.18082121476017757\n"
      ]
     },
     "metadata": {},
     "output_type": "display_data"
    },
    {
     "data": {
      "text/html": [
       "<pre style=\"white-space:pre;overflow-x:auto;line-height:normal;font-family:Menlo,'DejaVu Sans Mono',consolas,'Courier New',monospace\">Training loss per 100 training steps: 0.15968155548229307\n",
       "</pre>\n"
      ],
      "text/plain": [
       "Training loss per 100 training steps: 0.15968155548229307\n"
      ]
     },
     "metadata": {},
     "output_type": "display_data"
    },
    {
     "data": {
      "text/html": [
       "<pre style=\"white-space:pre;overflow-x:auto;line-height:normal;font-family:Menlo,'DejaVu Sans Mono',consolas,'Courier New',monospace\">Training loss per 100 training steps: 0.1434370448526937\n",
       "</pre>\n"
      ],
      "text/plain": [
       "Training loss per 100 training steps: 0.1434370448526937\n"
      ]
     },
     "metadata": {},
     "output_type": "display_data"
    },
    {
     "data": {
      "text/html": [
       "<pre style=\"white-space:pre;overflow-x:auto;line-height:normal;font-family:Menlo,'DejaVu Sans Mono',consolas,'Courier New',monospace\">Training loss per 100 training steps: 0.13227323956751716\n",
       "</pre>\n"
      ],
      "text/plain": [
       "Training loss per 100 training steps: 0.13227323956751716\n"
      ]
     },
     "metadata": {},
     "output_type": "display_data"
    },
    {
     "data": {
      "text/html": [
       "<pre style=\"white-space:pre;overflow-x:auto;line-height:normal;font-family:Menlo,'DejaVu Sans Mono',consolas,'Courier New',monospace\">Training loss per 100 training steps: 0.12102296662045417\n",
       "</pre>\n"
      ],
      "text/plain": [
       "Training loss per 100 training steps: 0.12102296662045417\n"
      ]
     },
     "metadata": {},
     "output_type": "display_data"
    },
    {
     "data": {
      "text/html": [
       "<pre style=\"white-space:pre;overflow-x:auto;line-height:normal;font-family:Menlo,'DejaVu Sans Mono',consolas,'Courier New',monospace\">Training loss per 100 training steps: 0.11418307321528583\n",
       "</pre>\n"
      ],
      "text/plain": [
       "Training loss per 100 training steps: 0.11418307321528583\n"
      ]
     },
     "metadata": {},
     "output_type": "display_data"
    },
    {
     "data": {
      "text/html": [
       "<pre style=\"white-space:pre;overflow-x:auto;line-height:normal;font-family:Menlo,'DejaVu Sans Mono',consolas,'Courier New',monospace\">Training loss per 100 training steps: 0.10661136677065822\n",
       "</pre>\n"
      ],
      "text/plain": [
       "Training loss per 100 training steps: 0.10661136677065822\n"
      ]
     },
     "metadata": {},
     "output_type": "display_data"
    },
    {
     "data": {
      "text/html": [
       "<pre style=\"white-space:pre;overflow-x:auto;line-height:normal;font-family:Menlo,'DejaVu Sans Mono',consolas,'Courier New',monospace\">Training loss per 100 training steps: 0.10130926640709562\n",
       "</pre>\n"
      ],
      "text/plain": [
       "Training loss per 100 training steps: 0.10130926640709562\n"
      ]
     },
     "metadata": {},
     "output_type": "display_data"
    },
    {
     "data": {
      "text/html": [
       "<pre style=\"white-space:pre;overflow-x:auto;line-height:normal;font-family:Menlo,'DejaVu Sans Mono',consolas,'Courier New',monospace\">Training loss epoch: 0.09993590790437983\n",
       "</pre>\n"
      ],
      "text/plain": [
       "Training loss epoch: 0.09993590790437983\n"
      ]
     },
     "metadata": {},
     "output_type": "display_data"
    },
    {
     "data": {
      "text/html": [
       "<pre style=\"white-space:pre;overflow-x:auto;line-height:normal;font-family:Menlo,'DejaVu Sans Mono',consolas,'Courier New',monospace\">Training accuracy epoch: 0.9721691782072278\n",
       "</pre>\n"
      ],
      "text/plain": [
       "Training accuracy epoch: 0.9721691782072278\n"
      ]
     },
     "metadata": {},
     "output_type": "display_data"
    },
    {
     "data": {
      "text/html": [
       "<pre style=\"white-space:pre;overflow-x:auto;line-height:normal;font-family:Menlo,'DejaVu Sans Mono',consolas,'Courier New',monospace\"></pre>\n"
      ],
      "text/plain": []
     },
     "metadata": {},
     "output_type": "display_data"
    },
    {
     "data": {
      "text/html": [
       "<pre style=\"white-space:pre;overflow-x:auto;line-height:normal;font-family:Menlo,'DejaVu Sans Mono',consolas,'Courier New',monospace\">\n",
       "</pre>\n"
      ],
      "text/plain": [
       "\n"
      ]
     },
     "metadata": {},
     "output_type": "display_data"
    }
   ],
   "source": [
    "@pip_requirements(packages=[\"transformers\", \"sklearn\", \"torch\"])\n",
    "@fabric(\"f-gpu-small\")\n",
    "@model(\"un_ner_finuted_bert\")\n",
    "\n",
    "def train():\n",
    "    from sklearn.metrics import accuracy_score\n",
    "    from transformers import BertTokenizerFast, BertConfig, BertForTokenClassification\n",
    "    from torch.utils.data import Dataset, DataLoader\n",
    "\n",
    "    train_params = {'batch_size': TRAIN_BATCH_SIZE,\n",
    "                'shuffle': True,\n",
    "                'num_workers': 0\n",
    "                }\n",
    "\n",
    "    training_loader = DataLoader(training_set, **train_params)\n",
    "\n",
    "    device = \"cpu\"\n",
    "    model = BertForTokenClassification.from_pretrained('bert-base-uncased', num_labels=len(tag_to_ids))\n",
    "    model.to(device)\n",
    "\n",
    "    optimizer = torch.optim.Adam(params=model.parameters(), lr=LEARNING_RATE)\n",
    "    \n",
    "    for epoch in range(EPOCHS):\n",
    "        print(f\"Training epoch: {epoch + 1}\")\n",
    "        tr_loss, tr_accuracy = 0, 0\n",
    "        nb_tr_examples, nb_tr_steps = 0, 0\n",
    "        tr_preds, tr_labels = [], []\n",
    "        # put model in training mode\n",
    "        model.train()\n",
    "        \n",
    "        for idx, batch in enumerate(training_loader):\n",
    "            \n",
    "            ids = batch['input_ids'].to(device, dtype = torch.long)\n",
    "            mask = batch['attention_mask'].to(device, dtype = torch.long)\n",
    "            labels = batch['labels'].to(device, dtype = torch.long)\n",
    "\n",
    "            outputs = model(input_ids=ids, attention_mask=mask, labels=labels)\n",
    "            loss = outputs[0]\n",
    "            tr_logits = outputs[1]\n",
    "            tr_loss += loss.item()\n",
    "\n",
    "            nb_tr_steps += 1\n",
    "            nb_tr_examples += labels.size(0)\n",
    "            \n",
    "            if idx % 100==0:\n",
    "                loss_step = tr_loss/nb_tr_steps\n",
    "                print(f\"Training loss per 100 training steps: {loss_step}\")\n",
    "            \n",
    "            # compute training accuracy\n",
    "            flattened_targets = labels.view(-1) # shape (batch_size * seq_len,)\n",
    "            active_logits = tr_logits.view(-1, model.num_labels) # shape (batch_size * seq_len, num_labels)\n",
    "            flattened_predictions = torch.argmax(active_logits, axis=1) # shape (batch_size * seq_len,)\n",
    "            \n",
    "            # only compute accuracy at active labels\n",
    "            active_accuracy = labels.view(-1) != -100 # shape (batch_size, seq_len)\n",
    "            #active_labels = torch.where(active_accuracy, labels.view(-1), torch.tensor(-100).type_as(labels))\n",
    "            \n",
    "            labels = torch.masked_select(flattened_targets, active_accuracy)\n",
    "            predictions = torch.masked_select(flattened_predictions, active_accuracy)\n",
    "            \n",
    "            tr_labels.extend(labels)\n",
    "            tr_preds.extend(predictions)\n",
    "\n",
    "            tmp_tr_accuracy = accuracy_score(labels.cpu().numpy(), predictions.cpu().numpy())\n",
    "            tr_accuracy += tmp_tr_accuracy\n",
    "        \n",
    "            # gradient clipping\n",
    "            torch.nn.utils.clip_grad_norm_(\n",
    "                parameters=model.parameters(), max_norm=MAX_GRAD_NORM\n",
    "            )\n",
    "            \n",
    "            # backward pass\n",
    "            optimizer.zero_grad()\n",
    "            loss.backward()\n",
    "            optimizer.step()\n",
    "\n",
    "        epoch_loss = tr_loss / nb_tr_steps\n",
    "        tr_accuracy = tr_accuracy / nb_tr_steps\n",
    "        print(f\"Training loss epoch: {epoch_loss}\")\n",
    "        print(f\"Training accuracy epoch: {tr_accuracy}\")\n",
    "\n",
    "    return model\n",
    "\n",
    "model = train()"
   ]
  },
  {
   "cell_type": "markdown",
   "metadata": {},
   "source": [
    "Once the model is trained, we will call it from Layer and we will call the trainer object for evaluation once the model in on memory."
   ]
  },
  {
   "cell_type": "code",
   "execution_count": null,
   "metadata": {},
   "outputs": [],
   "source": [
    "model = layer.get_model(\"kaankarakeben/united_nations_ner-finetuning/models/un_finetune_trainer\").get_train()"
   ]
  },
  {
   "cell_type": "markdown",
   "metadata": {},
   "source": [
    "Looking at the test set, we are able to achieve an accuracy of 99% and an F1 score of 88% with our trained model. Impressive results with a relatively small amount of annotated data!\n",
    "\n",
    "Lastly we'll have a look at how the model performs in the wild with an example. "
   ]
  },
  {
   "cell_type": "code",
   "execution_count": 28,
   "metadata": {},
   "outputs": [
    {
     "name": "stdout",
     "output_type": "stream",
     "text": [
      "Validation loss per 100 evaluation steps: 0.07575470209121704\n",
      "Validation loss per 100 evaluation steps: 0.04592693951136506\n",
      "Validation loss per 100 evaluation steps: 0.045777699266779305\n",
      "Validation loss per 100 evaluation steps: 0.04580374692628188\n",
      "Validation loss per 100 evaluation steps: 0.04674512721619051\n",
      "Validation loss per 100 evaluation steps: 0.04575173984985323\n",
      "Validation Loss: 0.04462353571913982\n",
      "Validation Accuracy: 0.9855823812930233\n",
      "              precision    recall  f1-score   support\n",
      "\n",
      "       I-LOC       0.91      0.97      0.94       780\n",
      "      I-MISC       0.80      0.66      0.72       603\n",
      "       I-ORG       0.80      0.89      0.84       748\n",
      "       I-PER       0.96      0.97      0.96       178\n",
      "           O       0.99      0.99      0.99     29144\n",
      "\n",
      "    accuracy                           0.98     31453\n",
      "   macro avg       0.89      0.90      0.89     31453\n",
      "weighted avg       0.98      0.98      0.98     31453\n",
      "\n"
     ]
    }
   ],
   "source": [
    "from sklearn.metrics import classification_report\n",
    "\n",
    "def validate(model, testing_loader):\n",
    "    # put model in evaluation mode\n",
    "    model.eval()\n",
    "    \n",
    "    eval_loss, eval_accuracy = 0, 0\n",
    "    nb_eval_examples, nb_eval_steps = 0, 0\n",
    "    eval_preds, eval_labels = [], []\n",
    "    device = \"cpu\"\n",
    "    with torch.no_grad():\n",
    "        for idx, batch in enumerate(testing_loader):\n",
    "            \n",
    "            ids = batch['input_ids'].to(device, dtype = torch.long)\n",
    "            mask = batch['attention_mask'].to(device, dtype = torch.long)\n",
    "            labels = batch['labels'].to(device, dtype = torch.long)\n",
    "            \n",
    "            outputs = model(input_ids=ids, attention_mask=mask, labels=labels)\n",
    "            loss = outputs[0]\n",
    "            eval_logits = outputs[1]\n",
    "\n",
    "            \n",
    "            eval_loss += loss.item()\n",
    "\n",
    "            nb_eval_steps += 1\n",
    "            nb_eval_examples += labels.size(0)\n",
    "        \n",
    "            if idx % 100==0:\n",
    "                loss_step = eval_loss/nb_eval_steps\n",
    "                print(f\"Validation loss per 100 evaluation steps: {loss_step}\")\n",
    "              \n",
    "            # compute evaluation accuracy\n",
    "            flattened_targets = labels.view(-1) # shape (batch_size * seq_len,)\n",
    "            active_logits = eval_logits.view(-1, model.num_labels) # shape (batch_size * seq_len, num_labels)\n",
    "            flattened_predictions = torch.argmax(active_logits, axis=1) # shape (batch_size * seq_len,)\n",
    "            \n",
    "            # only compute accuracy at active labels\n",
    "            active_accuracy = labels.view(-1) != -100 # shape (batch_size, seq_len)\n",
    "        \n",
    "            labels = torch.masked_select(flattened_targets, active_accuracy)\n",
    "            predictions = torch.masked_select(flattened_predictions, active_accuracy)\n",
    "            \n",
    "            eval_labels.extend(labels)\n",
    "            eval_preds.extend(predictions)\n",
    "            \n",
    "            tmp_eval_accuracy = accuracy_score(labels.cpu().numpy(), predictions.cpu().numpy())\n",
    "            eval_accuracy += tmp_eval_accuracy\n",
    "\n",
    "    labels = [id_to_tag[id.item()] for id in eval_labels]\n",
    "    predictions = [id_to_tag[id.item()] for id in eval_preds]\n",
    "    \n",
    "    eval_loss = eval_loss / nb_eval_steps\n",
    "    eval_accuracy = eval_accuracy / nb_eval_steps\n",
    "    print(f\"Validation Loss: {eval_loss}\")\n",
    "    print(f\"Validation Accuracy: {eval_accuracy}\")\n",
    "\n",
    "    return labels, predictions\n",
    "\n",
    "\n",
    "test_params = {'batch_size': VALID_BATCH_SIZE,\n",
    "                'shuffle': True,\n",
    "                'num_workers': 0\n",
    "                }\n",
    "\n",
    "testing_loader = DataLoader(testing_set, **test_params)\n",
    "\n",
    "labels, predictions = validate(model, testing_loader)\n",
    "\n",
    "print(classification_report(labels, predictions))"
   ]
  },
  {
   "cell_type": "code",
   "execution_count": 59,
   "metadata": {},
   "outputs": [
    {
     "name": "stdout",
     "output_type": "stream",
     "text": [
      "['Expressing', 'deep', 'concern', 'about', 'the', 'impact', 'of', 'the', 'food', 'security', 'crisis', 'on', 'the', 'assistance', 'provided', 'by', 'United', 'Nations', 'humanitarian', 'agencies,', 'in', 'particular', 'the', 'World', 'Food', 'Programme.']\n",
      "['O', 'O', 'O', 'O', 'O', 'O', 'O', 'O', 'O', 'O', 'O', 'O', 'O', 'O', 'O', 'O', 'I-ORG', 'I-ORG', 'O', 'O', 'O', 'O', 'O', 'I-ORG', 'I-ORG', 'I-ORG']\n"
     ]
    }
   ],
   "source": [
    "sentence = \"\"\"Expressing deep concern about the impact of the food security crisis on the\n",
    "assistance provided by United Nations humanitarian agencies, in particular the World\n",
    "Food Programme.\"\"\"\n",
    "\n",
    "inputs = tokenizer(sentence.split(),\n",
    "                    is_split_into_words=True,\n",
    "                    return_offsets_mapping=True, \n",
    "                    padding='max_length', \n",
    "                    truncation=True, \n",
    "                    max_length=MAX_LEN,\n",
    "                    return_tensors=\"pt\")\n",
    "\n",
    "            \n",
    "ids = inputs[\"input_ids\"]\n",
    "mask = inputs[\"attention_mask\"]\n",
    "# forward pass\n",
    "outputs = model(ids, attention_mask=mask)\n",
    "logits = outputs[0]\n",
    "\n",
    "active_logits = logits.view(-1, model.num_labels) # shape (batch_size * seq_len, num_labels)\n",
    "flattened_predictions = torch.argmax(active_logits, axis=1) # shape (batch_size*seq_len,) - predictions at the token level\n",
    "\n",
    "tokens = tokenizer.convert_ids_to_tokens(ids.squeeze().tolist())\n",
    "token_predictions = [id_to_tag[i] for i in flattened_predictions.cpu().numpy()]\n",
    "wp_preds = list(zip(tokens, token_predictions)) # list of tuples. Each tuple = (wordpiece, prediction)\n",
    "\n",
    "prediction = []\n",
    "for token_pred, mapping in zip(wp_preds, inputs[\"offset_mapping\"].squeeze().tolist()):\n",
    "  #only predictions on first word pieces are important\n",
    "  if mapping[0] == 0 and mapping[1] != 0:\n",
    "    prediction.append(token_pred[1])\n",
    "  else:\n",
    "    continue\n",
    "\n",
    "print(sentence.split())\n",
    "print(prediction)"
   ]
  },
  {
   "cell_type": "markdown",
   "metadata": {},
   "source": [
    "Extracting named entitities from text has many uses that transform the way we interact with these documents. With the usage of pretrained models such as Bert and libraries such as Hugginface makes easy to fine-tune general purpose models. However, for a data scientist life doesn't end with trained model at a notebok. Features we have shown from Layer allows us to follow the best MLOps practises in bulding, tracking and logging all of our artifacts. When all these technologies combine, long-lasting value is unlocked."
   ]
  },
  {
   "cell_type": "markdown",
   "metadata": {
    "id": "hCbiUqUFyL3w"
   },
   "source": [
    "Blog posts and tutorial I find useful in preparation for this work:\n",
    "\n",
    "https://medium.com/@andrewmarmon/fine-tuned-named-entity-recognition-with-hugging-face-bert-d51d4cb3d7b5\n",
    "\n",
    "https://colab.research.google.com/github/NielsRogge/Transformers-Tutorials/blob/master/BERT/Custom_Named_Entity_Recognition_with_BERT_only_first_wordpiece.ipynb#scrollTo=zPDla1mmZiax\n",
    "\n",
    "https://www.depends-on-the-definition.com/named-entity-recognition-with-bert/\n",
    "\n",
    "https://jalammar.github.io/illustrated-bert/\n",
    "\n",
    "https://huggingface.co/docs/transformers/tasks/token_classification"
   ]
  }
 ],
 "metadata": {
  "accelerator": "GPU",
  "colab": {
   "collapsed_sections": [],
   "name": "layer_ner.ipynb",
   "provenance": []
  },
  "interpreter": {
   "hash": "71850e9f25a0f79f75822aa458fa673d472e7f4ffc7cab23b5caf4c00ad2944b"
  },
  "kernelspec": {
   "display_name": "Python 3",
   "language": "python",
   "name": "python3"
  },
  "language_info": {
   "codemirror_mode": {
    "name": "ipython",
    "version": 3
   },
   "file_extension": ".py",
   "mimetype": "text/x-python",
   "name": "python",
   "nbconvert_exporter": "python",
   "pygments_lexer": "ipython3",
   "version": "3.8.0"
  },
  "widgets": {
   "application/vnd.jupyter.widget-state+json": {
    "02a25a765c0948f6bcc799815ddeec70": {
     "model_module": "@jupyter-widgets/base",
     "model_module_version": "1.2.0",
     "model_name": "LayoutModel",
     "state": {
      "_model_module": "@jupyter-widgets/base",
      "_model_module_version": "1.2.0",
      "_model_name": "LayoutModel",
      "_view_count": null,
      "_view_module": "@jupyter-widgets/base",
      "_view_module_version": "1.2.0",
      "_view_name": "LayoutView",
      "align_content": null,
      "align_items": null,
      "align_self": null,
      "border": null,
      "bottom": null,
      "display": null,
      "flex": null,
      "flex_flow": null,
      "grid_area": null,
      "grid_auto_columns": null,
      "grid_auto_flow": null,
      "grid_auto_rows": null,
      "grid_column": null,
      "grid_gap": null,
      "grid_row": null,
      "grid_template_areas": null,
      "grid_template_columns": null,
      "grid_template_rows": null,
      "height": null,
      "justify_content": null,
      "justify_items": null,
      "left": null,
      "margin": null,
      "max_height": null,
      "max_width": null,
      "min_height": null,
      "min_width": null,
      "object_fit": null,
      "object_position": null,
      "order": null,
      "overflow": null,
      "overflow_x": null,
      "overflow_y": null,
      "padding": null,
      "right": null,
      "top": null,
      "visibility": null,
      "width": null
     }
    },
    "0a54c223230a47f9b2bc2333a264add4": {
     "model_module": "@jupyter-widgets/controls",
     "model_module_version": "1.5.0",
     "model_name": "FloatProgressModel",
     "state": {
      "_dom_classes": [],
      "_model_module": "@jupyter-widgets/controls",
      "_model_module_version": "1.5.0",
      "_model_name": "FloatProgressModel",
      "_view_count": null,
      "_view_module": "@jupyter-widgets/controls",
      "_view_module_version": "1.5.0",
      "_view_name": "ProgressView",
      "bar_style": "success",
      "description": "",
      "description_tooltip": null,
      "layout": "IPY_MODEL_b9ea20dbdcdb40b5829df40f876043ce",
      "max": 29,
      "min": 0,
      "orientation": "horizontal",
      "style": "IPY_MODEL_d94c55cdfa644ce1b12cdf57eaa28414",
      "value": 29
     }
    },
    "0bdcb56b6e484c9582a651dccc069181": {
     "model_module": "@jupyter-widgets/controls",
     "model_module_version": "1.5.0",
     "model_name": "DescriptionStyleModel",
     "state": {
      "_model_module": "@jupyter-widgets/controls",
      "_model_module_version": "1.5.0",
      "_model_name": "DescriptionStyleModel",
      "_view_count": null,
      "_view_module": "@jupyter-widgets/base",
      "_view_module_version": "1.2.0",
      "_view_name": "StyleView",
      "description_width": ""
     }
    },
    "0d084b4f6168459b80d215d36e4b78a2": {
     "model_module": "@jupyter-widgets/base",
     "model_module_version": "1.2.0",
     "model_name": "LayoutModel",
     "state": {
      "_model_module": "@jupyter-widgets/base",
      "_model_module_version": "1.2.0",
      "_model_name": "LayoutModel",
      "_view_count": null,
      "_view_module": "@jupyter-widgets/base",
      "_view_module_version": "1.2.0",
      "_view_name": "LayoutView",
      "align_content": null,
      "align_items": null,
      "align_self": null,
      "border": null,
      "bottom": null,
      "display": null,
      "flex": null,
      "flex_flow": null,
      "grid_area": null,
      "grid_auto_columns": null,
      "grid_auto_flow": null,
      "grid_auto_rows": null,
      "grid_column": null,
      "grid_gap": null,
      "grid_row": null,
      "grid_template_areas": null,
      "grid_template_columns": null,
      "grid_template_rows": null,
      "height": null,
      "justify_content": null,
      "justify_items": null,
      "left": null,
      "margin": null,
      "max_height": null,
      "max_width": null,
      "min_height": null,
      "min_width": null,
      "object_fit": null,
      "object_position": null,
      "order": null,
      "overflow": null,
      "overflow_x": null,
      "overflow_y": null,
      "padding": null,
      "right": null,
      "top": null,
      "visibility": null,
      "width": null
     }
    },
    "0f7a834550d241c5bf904481c771c458": {
     "model_module": "@jupyter-widgets/controls",
     "model_module_version": "1.5.0",
     "model_name": "HBoxModel",
     "state": {
      "_dom_classes": [],
      "_model_module": "@jupyter-widgets/controls",
      "_model_module_version": "1.5.0",
      "_model_name": "HBoxModel",
      "_view_count": null,
      "_view_module": "@jupyter-widgets/controls",
      "_view_module_version": "1.5.0",
      "_view_name": "HBoxView",
      "box_style": "",
      "children": [
       "IPY_MODEL_7841e6ee7e5a4d43a3c06c0217cea7c1",
       "IPY_MODEL_9835180cb31642d0bf58b5e24154be14",
       "IPY_MODEL_bfac4de76a734918962e385503673d9d"
      ],
      "layout": "IPY_MODEL_fe77106f0e42481f84f16dd8da9dc183"
     }
    },
    "0f94294d2117471ba89fd9f2732f3848": {
     "model_module": "@jupyter-widgets/controls",
     "model_module_version": "1.5.0",
     "model_name": "ProgressStyleModel",
     "state": {
      "_model_module": "@jupyter-widgets/controls",
      "_model_module_version": "1.5.0",
      "_model_name": "ProgressStyleModel",
      "_view_count": null,
      "_view_module": "@jupyter-widgets/base",
      "_view_module_version": "1.2.0",
      "_view_name": "StyleView",
      "bar_color": null,
      "description_width": ""
     }
    },
    "18d039187b5a47bb8089e563d99e4483": {
     "model_module": "@jupyter-widgets/controls",
     "model_module_version": "1.5.0",
     "model_name": "ProgressStyleModel",
     "state": {
      "_model_module": "@jupyter-widgets/controls",
      "_model_module_version": "1.5.0",
      "_model_name": "ProgressStyleModel",
      "_view_count": null,
      "_view_module": "@jupyter-widgets/base",
      "_view_module_version": "1.2.0",
      "_view_name": "StyleView",
      "bar_color": null,
      "description_width": ""
     }
    },
    "1ee5d7c7edf947d98a186cb085300369": {
     "model_module": "@jupyter-widgets/base",
     "model_module_version": "1.2.0",
     "model_name": "LayoutModel",
     "state": {
      "_model_module": "@jupyter-widgets/base",
      "_model_module_version": "1.2.0",
      "_model_name": "LayoutModel",
      "_view_count": null,
      "_view_module": "@jupyter-widgets/base",
      "_view_module_version": "1.2.0",
      "_view_name": "LayoutView",
      "align_content": null,
      "align_items": null,
      "align_self": null,
      "border": null,
      "bottom": null,
      "display": null,
      "flex": null,
      "flex_flow": null,
      "grid_area": null,
      "grid_auto_columns": null,
      "grid_auto_flow": null,
      "grid_auto_rows": null,
      "grid_column": null,
      "grid_gap": null,
      "grid_row": null,
      "grid_template_areas": null,
      "grid_template_columns": null,
      "grid_template_rows": null,
      "height": null,
      "justify_content": null,
      "justify_items": null,
      "left": null,
      "margin": null,
      "max_height": null,
      "max_width": null,
      "min_height": null,
      "min_width": null,
      "object_fit": null,
      "object_position": null,
      "order": null,
      "overflow": null,
      "overflow_x": null,
      "overflow_y": null,
      "padding": null,
      "right": null,
      "top": null,
      "visibility": null,
      "width": null
     }
    },
    "259c6ce587de403da221775b5c8cfe6f": {
     "model_module": "@jupyter-widgets/base",
     "model_module_version": "1.2.0",
     "model_name": "LayoutModel",
     "state": {
      "_model_module": "@jupyter-widgets/base",
      "_model_module_version": "1.2.0",
      "_model_name": "LayoutModel",
      "_view_count": null,
      "_view_module": "@jupyter-widgets/base",
      "_view_module_version": "1.2.0",
      "_view_name": "LayoutView",
      "align_content": null,
      "align_items": null,
      "align_self": null,
      "border": null,
      "bottom": null,
      "display": null,
      "flex": null,
      "flex_flow": null,
      "grid_area": null,
      "grid_auto_columns": null,
      "grid_auto_flow": null,
      "grid_auto_rows": null,
      "grid_column": null,
      "grid_gap": null,
      "grid_row": null,
      "grid_template_areas": null,
      "grid_template_columns": null,
      "grid_template_rows": null,
      "height": null,
      "justify_content": null,
      "justify_items": null,
      "left": null,
      "margin": null,
      "max_height": null,
      "max_width": null,
      "min_height": null,
      "min_width": null,
      "object_fit": null,
      "object_position": null,
      "order": null,
      "overflow": null,
      "overflow_x": null,
      "overflow_y": null,
      "padding": null,
      "right": null,
      "top": null,
      "visibility": null,
      "width": null
     }
    },
    "2a133db8121f45ddabfafdc5065fe74a": {
     "model_module": "@jupyter-widgets/controls",
     "model_module_version": "1.5.0",
     "model_name": "FloatProgressModel",
     "state": {
      "_dom_classes": [],
      "_model_module": "@jupyter-widgets/controls",
      "_model_module_version": "1.5.0",
      "_model_name": "FloatProgressModel",
      "_view_count": null,
      "_view_module": "@jupyter-widgets/controls",
      "_view_module_version": "1.5.0",
      "_view_name": "ProgressView",
      "bar_style": "success",
      "description": "",
      "description_tooltip": null,
      "layout": "IPY_MODEL_863bd4417b5445cc9ec579d27749cfc2",
      "max": 3,
      "min": 0,
      "orientation": "horizontal",
      "style": "IPY_MODEL_942a1d7cb0b94d949b00d95fbbdd6397",
      "value": 3
     }
    },
    "335c38ade7e9419e9fd58bdf2d10416b": {
     "model_module": "@jupyter-widgets/controls",
     "model_module_version": "1.5.0",
     "model_name": "HTMLModel",
     "state": {
      "_dom_classes": [],
      "_model_module": "@jupyter-widgets/controls",
      "_model_module_version": "1.5.0",
      "_model_name": "HTMLModel",
      "_view_count": null,
      "_view_module": "@jupyter-widgets/controls",
      "_view_module_version": "1.5.0",
      "_view_name": "HTMLView",
      "description": "",
      "description_tooltip": null,
      "layout": "IPY_MODEL_77682a8bbf7348509d79a89f4bd6195a",
      "placeholder": "​",
      "style": "IPY_MODEL_ea8ce2f070db48b8926c2e44b9739ee5",
      "value": "100%"
     }
    },
    "33d96099c6a2450a8c332a465c2f4198": {
     "model_module": "@jupyter-widgets/base",
     "model_module_version": "1.2.0",
     "model_name": "LayoutModel",
     "state": {
      "_model_module": "@jupyter-widgets/base",
      "_model_module_version": "1.2.0",
      "_model_name": "LayoutModel",
      "_view_count": null,
      "_view_module": "@jupyter-widgets/base",
      "_view_module_version": "1.2.0",
      "_view_name": "LayoutView",
      "align_content": null,
      "align_items": null,
      "align_self": null,
      "border": null,
      "bottom": null,
      "display": null,
      "flex": null,
      "flex_flow": null,
      "grid_area": null,
      "grid_auto_columns": null,
      "grid_auto_flow": null,
      "grid_auto_rows": null,
      "grid_column": null,
      "grid_gap": null,
      "grid_row": null,
      "grid_template_areas": null,
      "grid_template_columns": null,
      "grid_template_rows": null,
      "height": null,
      "justify_content": null,
      "justify_items": null,
      "left": null,
      "margin": null,
      "max_height": null,
      "max_width": null,
      "min_height": null,
      "min_width": null,
      "object_fit": null,
      "object_position": null,
      "order": null,
      "overflow": null,
      "overflow_x": null,
      "overflow_y": null,
      "padding": null,
      "right": null,
      "top": null,
      "visibility": null,
      "width": null
     }
    },
    "37a11dd1269d4b57a77725f28acb0703": {
     "model_module": "@jupyter-widgets/controls",
     "model_module_version": "1.5.0",
     "model_name": "HTMLModel",
     "state": {
      "_dom_classes": [],
      "_model_module": "@jupyter-widgets/controls",
      "_model_module_version": "1.5.0",
      "_model_name": "HTMLModel",
      "_view_count": null,
      "_view_module": "@jupyter-widgets/controls",
      "_view_module_version": "1.5.0",
      "_view_name": "HTMLView",
      "description": "",
      "description_tooltip": null,
      "layout": "IPY_MODEL_e2df828e18e649b7bde2a95cc9351650",
      "placeholder": "​",
      "style": "IPY_MODEL_8174ba56cb5b4d4f839e7ba422107fb5",
      "value": "Downloading: 100%"
     }
    },
    "40e770aa4ca84373bac46016e5d56f0b": {
     "model_module": "@jupyter-widgets/base",
     "model_module_version": "1.2.0",
     "model_name": "LayoutModel",
     "state": {
      "_model_module": "@jupyter-widgets/base",
      "_model_module_version": "1.2.0",
      "_model_name": "LayoutModel",
      "_view_count": null,
      "_view_module": "@jupyter-widgets/base",
      "_view_module_version": "1.2.0",
      "_view_name": "LayoutView",
      "align_content": null,
      "align_items": null,
      "align_self": null,
      "border": null,
      "bottom": null,
      "display": null,
      "flex": null,
      "flex_flow": null,
      "grid_area": null,
      "grid_auto_columns": null,
      "grid_auto_flow": null,
      "grid_auto_rows": null,
      "grid_column": null,
      "grid_gap": null,
      "grid_row": null,
      "grid_template_areas": null,
      "grid_template_columns": null,
      "grid_template_rows": null,
      "height": null,
      "justify_content": null,
      "justify_items": null,
      "left": null,
      "margin": null,
      "max_height": null,
      "max_width": null,
      "min_height": null,
      "min_width": null,
      "object_fit": null,
      "object_position": null,
      "order": null,
      "overflow": null,
      "overflow_x": null,
      "overflow_y": null,
      "padding": null,
      "right": null,
      "top": null,
      "visibility": null,
      "width": null
     }
    },
    "428fca2ba5064f17a666888d14c87091": {
     "model_module": "@jupyter-widgets/controls",
     "model_module_version": "1.5.0",
     "model_name": "ProgressStyleModel",
     "state": {
      "_model_module": "@jupyter-widgets/controls",
      "_model_module_version": "1.5.0",
      "_model_name": "ProgressStyleModel",
      "_view_count": null,
      "_view_module": "@jupyter-widgets/base",
      "_view_module_version": "1.2.0",
      "_view_name": "StyleView",
      "bar_color": null,
      "description_width": ""
     }
    },
    "46ef413dac8a44409343fcf5541ed94b": {
     "model_module": "@jupyter-widgets/controls",
     "model_module_version": "1.5.0",
     "model_name": "HTMLModel",
     "state": {
      "_dom_classes": [],
      "_model_module": "@jupyter-widgets/controls",
      "_model_module_version": "1.5.0",
      "_model_name": "HTMLModel",
      "_view_count": null,
      "_view_module": "@jupyter-widgets/controls",
      "_view_module_version": "1.5.0",
      "_view_name": "HTMLView",
      "description": "",
      "description_tooltip": null,
      "layout": "IPY_MODEL_8b075a310647451eb5f62dd01b36ba06",
      "placeholder": "​",
      "style": "IPY_MODEL_5875ae459b364d5ebb2130a0efc14342",
      "value": " 251M/251M [00:09&lt;00:00, 31.1MB/s]"
     }
    },
    "4b6b1ae9739149949602b368cd91840b": {
     "model_module": "@jupyter-widgets/controls",
     "model_module_version": "1.5.0",
     "model_name": "DescriptionStyleModel",
     "state": {
      "_model_module": "@jupyter-widgets/controls",
      "_model_module_version": "1.5.0",
      "_model_name": "DescriptionStyleModel",
      "_view_count": null,
      "_view_module": "@jupyter-widgets/base",
      "_view_module_version": "1.2.0",
      "_view_name": "StyleView",
      "description_width": ""
     }
    },
    "4c60cca3a6454fc09d94a5e3f0d713c7": {
     "model_module": "@jupyter-widgets/controls",
     "model_module_version": "1.5.0",
     "model_name": "HTMLModel",
     "state": {
      "_dom_classes": [],
      "_model_module": "@jupyter-widgets/controls",
      "_model_module_version": "1.5.0",
      "_model_name": "HTMLModel",
      "_view_count": null,
      "_view_module": "@jupyter-widgets/controls",
      "_view_module_version": "1.5.0",
      "_view_name": "HTMLView",
      "description": "",
      "description_tooltip": null,
      "layout": "IPY_MODEL_ad25eaab0fbe42b48676e731d2821a71",
      "placeholder": "​",
      "style": "IPY_MODEL_4b6b1ae9739149949602b368cd91840b",
      "value": " 426k/426k [00:00&lt;00:00, 1.02MB/s]"
     }
    },
    "56cafd3159be41f48670d196a9eff613": {
     "model_module": "@jupyter-widgets/controls",
     "model_module_version": "1.5.0",
     "model_name": "DescriptionStyleModel",
     "state": {
      "_model_module": "@jupyter-widgets/controls",
      "_model_module_version": "1.5.0",
      "_model_name": "DescriptionStyleModel",
      "_view_count": null,
      "_view_module": "@jupyter-widgets/base",
      "_view_module_version": "1.2.0",
      "_view_name": "StyleView",
      "description_width": ""
     }
    },
    "5875ae459b364d5ebb2130a0efc14342": {
     "model_module": "@jupyter-widgets/controls",
     "model_module_version": "1.5.0",
     "model_name": "DescriptionStyleModel",
     "state": {
      "_model_module": "@jupyter-widgets/controls",
      "_model_module_version": "1.5.0",
      "_model_name": "DescriptionStyleModel",
      "_view_count": null,
      "_view_module": "@jupyter-widgets/base",
      "_view_module_version": "1.2.0",
      "_view_name": "StyleView",
      "description_width": ""
     }
    },
    "59a8add8fe5c414baa7829c7ea7c23d6": {
     "model_module": "@jupyter-widgets/base",
     "model_module_version": "1.2.0",
     "model_name": "LayoutModel",
     "state": {
      "_model_module": "@jupyter-widgets/base",
      "_model_module_version": "1.2.0",
      "_model_name": "LayoutModel",
      "_view_count": null,
      "_view_module": "@jupyter-widgets/base",
      "_view_module_version": "1.2.0",
      "_view_name": "LayoutView",
      "align_content": null,
      "align_items": null,
      "align_self": null,
      "border": null,
      "bottom": null,
      "display": null,
      "flex": null,
      "flex_flow": null,
      "grid_area": null,
      "grid_auto_columns": null,
      "grid_auto_flow": null,
      "grid_auto_rows": null,
      "grid_column": null,
      "grid_gap": null,
      "grid_row": null,
      "grid_template_areas": null,
      "grid_template_columns": null,
      "grid_template_rows": null,
      "height": null,
      "justify_content": null,
      "justify_items": null,
      "left": null,
      "margin": null,
      "max_height": null,
      "max_width": null,
      "min_height": null,
      "min_width": null,
      "object_fit": null,
      "object_position": null,
      "order": null,
      "overflow": null,
      "overflow_x": null,
      "overflow_y": null,
      "padding": null,
      "right": null,
      "top": null,
      "visibility": null,
      "width": null
     }
    },
    "5de40d183cac49ecacb0dfe5b055c307": {
     "model_module": "@jupyter-widgets/controls",
     "model_module_version": "1.5.0",
     "model_name": "ProgressStyleModel",
     "state": {
      "_model_module": "@jupyter-widgets/controls",
      "_model_module_version": "1.5.0",
      "_model_name": "ProgressStyleModel",
      "_view_count": null,
      "_view_module": "@jupyter-widgets/base",
      "_view_module_version": "1.2.0",
      "_view_name": "StyleView",
      "bar_color": null,
      "description_width": ""
     }
    },
    "69730bdccbd64210936aca3b34a9750b": {
     "model_module": "@jupyter-widgets/controls",
     "model_module_version": "1.5.0",
     "model_name": "HTMLModel",
     "state": {
      "_dom_classes": [],
      "_model_module": "@jupyter-widgets/controls",
      "_model_module_version": "1.5.0",
      "_model_name": "HTMLModel",
      "_view_count": null,
      "_view_module": "@jupyter-widgets/controls",
      "_view_module_version": "1.5.0",
      "_view_name": "HTMLView",
      "description": "",
      "description_tooltip": null,
      "layout": "IPY_MODEL_33d96099c6a2450a8c332a465c2f4198",
      "placeholder": "​",
      "style": "IPY_MODEL_d0a504a5bec545b8b45250f8982f4748",
      "value": " 29.0/29.0 [00:00&lt;00:00, 801B/s]"
     }
    },
    "69c0b2767c4a4ed4989c8f7c27f3aa63": {
     "model_module": "@jupyter-widgets/controls",
     "model_module_version": "1.5.0",
     "model_name": "HBoxModel",
     "state": {
      "_dom_classes": [],
      "_model_module": "@jupyter-widgets/controls",
      "_model_module_version": "1.5.0",
      "_model_name": "HBoxModel",
      "_view_count": null,
      "_view_module": "@jupyter-widgets/controls",
      "_view_module_version": "1.5.0",
      "_view_name": "HBoxView",
      "box_style": "",
      "children": [
       "IPY_MODEL_335c38ade7e9419e9fd58bdf2d10416b",
       "IPY_MODEL_2a133db8121f45ddabfafdc5065fe74a",
       "IPY_MODEL_bb893dd299e3435696f01246a75419ba"
      ],
      "layout": "IPY_MODEL_8f245d300b364f3381f480a002567dae"
     }
    },
    "6df3016fbe48436ea3b532fe396273d7": {
     "model_module": "@jupyter-widgets/base",
     "model_module_version": "1.2.0",
     "model_name": "LayoutModel",
     "state": {
      "_model_module": "@jupyter-widgets/base",
      "_model_module_version": "1.2.0",
      "_model_name": "LayoutModel",
      "_view_count": null,
      "_view_module": "@jupyter-widgets/base",
      "_view_module_version": "1.2.0",
      "_view_name": "LayoutView",
      "align_content": null,
      "align_items": null,
      "align_self": null,
      "border": null,
      "bottom": null,
      "display": null,
      "flex": null,
      "flex_flow": null,
      "grid_area": null,
      "grid_auto_columns": null,
      "grid_auto_flow": null,
      "grid_auto_rows": null,
      "grid_column": null,
      "grid_gap": null,
      "grid_row": null,
      "grid_template_areas": null,
      "grid_template_columns": null,
      "grid_template_rows": null,
      "height": null,
      "justify_content": null,
      "justify_items": null,
      "left": null,
      "margin": null,
      "max_height": null,
      "max_width": null,
      "min_height": null,
      "min_width": null,
      "object_fit": null,
      "object_position": null,
      "order": null,
      "overflow": null,
      "overflow_x": null,
      "overflow_y": null,
      "padding": null,
      "right": null,
      "top": null,
      "visibility": null,
      "width": null
     }
    },
    "7050216aeee0495f9ee51c03a32b9e6a": {
     "model_module": "@jupyter-widgets/controls",
     "model_module_version": "1.5.0",
     "model_name": "HTMLModel",
     "state": {
      "_dom_classes": [],
      "_model_module": "@jupyter-widgets/controls",
      "_model_module_version": "1.5.0",
      "_model_name": "HTMLModel",
      "_view_count": null,
      "_view_module": "@jupyter-widgets/controls",
      "_view_module_version": "1.5.0",
      "_view_name": "HTMLView",
      "description": "",
      "description_tooltip": null,
      "layout": "IPY_MODEL_6df3016fbe48436ea3b532fe396273d7",
      "placeholder": "​",
      "style": "IPY_MODEL_ecf340ac2ae645bbbb03564c46036b76",
      "value": "100%"
     }
    },
    "70712a7d44cf4450b2c50b820f1307bf": {
     "model_module": "@jupyter-widgets/controls",
     "model_module_version": "1.5.0",
     "model_name": "DescriptionStyleModel",
     "state": {
      "_model_module": "@jupyter-widgets/controls",
      "_model_module_version": "1.5.0",
      "_model_name": "DescriptionStyleModel",
      "_view_count": null,
      "_view_module": "@jupyter-widgets/base",
      "_view_module_version": "1.2.0",
      "_view_name": "StyleView",
      "description_width": ""
     }
    },
    "77682a8bbf7348509d79a89f4bd6195a": {
     "model_module": "@jupyter-widgets/base",
     "model_module_version": "1.2.0",
     "model_name": "LayoutModel",
     "state": {
      "_model_module": "@jupyter-widgets/base",
      "_model_module_version": "1.2.0",
      "_model_name": "LayoutModel",
      "_view_count": null,
      "_view_module": "@jupyter-widgets/base",
      "_view_module_version": "1.2.0",
      "_view_name": "LayoutView",
      "align_content": null,
      "align_items": null,
      "align_self": null,
      "border": null,
      "bottom": null,
      "display": null,
      "flex": null,
      "flex_flow": null,
      "grid_area": null,
      "grid_auto_columns": null,
      "grid_auto_flow": null,
      "grid_auto_rows": null,
      "grid_column": null,
      "grid_gap": null,
      "grid_row": null,
      "grid_template_areas": null,
      "grid_template_columns": null,
      "grid_template_rows": null,
      "height": null,
      "justify_content": null,
      "justify_items": null,
      "left": null,
      "margin": null,
      "max_height": null,
      "max_width": null,
      "min_height": null,
      "min_width": null,
      "object_fit": null,
      "object_position": null,
      "order": null,
      "overflow": null,
      "overflow_x": null,
      "overflow_y": null,
      "padding": null,
      "right": null,
      "top": null,
      "visibility": null,
      "width": null
     }
    },
    "7841e6ee7e5a4d43a3c06c0217cea7c1": {
     "model_module": "@jupyter-widgets/controls",
     "model_module_version": "1.5.0",
     "model_name": "HTMLModel",
     "state": {
      "_dom_classes": [],
      "_model_module": "@jupyter-widgets/controls",
      "_model_module_version": "1.5.0",
      "_model_name": "HTMLModel",
      "_view_count": null,
      "_view_module": "@jupyter-widgets/controls",
      "_view_module_version": "1.5.0",
      "_view_name": "HTMLView",
      "description": "",
      "description_tooltip": null,
      "layout": "IPY_MODEL_0d084b4f6168459b80d215d36e4b78a2",
      "placeholder": "​",
      "style": "IPY_MODEL_c00e9def789c4081a0acf4e4202b8d6d",
      "value": "Downloading: 100%"
     }
    },
    "7becf06a9ced4f6f9665b1dd765fee01": {
     "model_module": "@jupyter-widgets/controls",
     "model_module_version": "1.5.0",
     "model_name": "ProgressStyleModel",
     "state": {
      "_model_module": "@jupyter-widgets/controls",
      "_model_module_version": "1.5.0",
      "_model_name": "ProgressStyleModel",
      "_view_count": null,
      "_view_module": "@jupyter-widgets/base",
      "_view_module_version": "1.2.0",
      "_view_name": "StyleView",
      "bar_color": null,
      "description_width": ""
     }
    },
    "8174ba56cb5b4d4f839e7ba422107fb5": {
     "model_module": "@jupyter-widgets/controls",
     "model_module_version": "1.5.0",
     "model_name": "DescriptionStyleModel",
     "state": {
      "_model_module": "@jupyter-widgets/controls",
      "_model_module_version": "1.5.0",
      "_model_name": "DescriptionStyleModel",
      "_view_count": null,
      "_view_module": "@jupyter-widgets/base",
      "_view_module_version": "1.2.0",
      "_view_name": "StyleView",
      "description_width": ""
     }
    },
    "863bd4417b5445cc9ec579d27749cfc2": {
     "model_module": "@jupyter-widgets/base",
     "model_module_version": "1.2.0",
     "model_name": "LayoutModel",
     "state": {
      "_model_module": "@jupyter-widgets/base",
      "_model_module_version": "1.2.0",
      "_model_name": "LayoutModel",
      "_view_count": null,
      "_view_module": "@jupyter-widgets/base",
      "_view_module_version": "1.2.0",
      "_view_name": "LayoutView",
      "align_content": null,
      "align_items": null,
      "align_self": null,
      "border": null,
      "bottom": null,
      "display": null,
      "flex": null,
      "flex_flow": null,
      "grid_area": null,
      "grid_auto_columns": null,
      "grid_auto_flow": null,
      "grid_auto_rows": null,
      "grid_column": null,
      "grid_gap": null,
      "grid_row": null,
      "grid_template_areas": null,
      "grid_template_columns": null,
      "grid_template_rows": null,
      "height": null,
      "justify_content": null,
      "justify_items": null,
      "left": null,
      "margin": null,
      "max_height": null,
      "max_width": null,
      "min_height": null,
      "min_width": null,
      "object_fit": null,
      "object_position": null,
      "order": null,
      "overflow": null,
      "overflow_x": null,
      "overflow_y": null,
      "padding": null,
      "right": null,
      "top": null,
      "visibility": null,
      "width": null
     }
    },
    "885d58a475554537bab1502e8d357d54": {
     "model_module": "@jupyter-widgets/base",
     "model_module_version": "1.2.0",
     "model_name": "LayoutModel",
     "state": {
      "_model_module": "@jupyter-widgets/base",
      "_model_module_version": "1.2.0",
      "_model_name": "LayoutModel",
      "_view_count": null,
      "_view_module": "@jupyter-widgets/base",
      "_view_module_version": "1.2.0",
      "_view_name": "LayoutView",
      "align_content": null,
      "align_items": null,
      "align_self": null,
      "border": null,
      "bottom": null,
      "display": null,
      "flex": null,
      "flex_flow": null,
      "grid_area": null,
      "grid_auto_columns": null,
      "grid_auto_flow": null,
      "grid_auto_rows": null,
      "grid_column": null,
      "grid_gap": null,
      "grid_row": null,
      "grid_template_areas": null,
      "grid_template_columns": null,
      "grid_template_rows": null,
      "height": null,
      "justify_content": null,
      "justify_items": null,
      "left": null,
      "margin": null,
      "max_height": null,
      "max_width": null,
      "min_height": null,
      "min_width": null,
      "object_fit": null,
      "object_position": null,
      "order": null,
      "overflow": null,
      "overflow_x": null,
      "overflow_y": null,
      "padding": null,
      "right": null,
      "top": null,
      "visibility": null,
      "width": null
     }
    },
    "8b075a310647451eb5f62dd01b36ba06": {
     "model_module": "@jupyter-widgets/base",
     "model_module_version": "1.2.0",
     "model_name": "LayoutModel",
     "state": {
      "_model_module": "@jupyter-widgets/base",
      "_model_module_version": "1.2.0",
      "_model_name": "LayoutModel",
      "_view_count": null,
      "_view_module": "@jupyter-widgets/base",
      "_view_module_version": "1.2.0",
      "_view_name": "LayoutView",
      "align_content": null,
      "align_items": null,
      "align_self": null,
      "border": null,
      "bottom": null,
      "display": null,
      "flex": null,
      "flex_flow": null,
      "grid_area": null,
      "grid_auto_columns": null,
      "grid_auto_flow": null,
      "grid_auto_rows": null,
      "grid_column": null,
      "grid_gap": null,
      "grid_row": null,
      "grid_template_areas": null,
      "grid_template_columns": null,
      "grid_template_rows": null,
      "height": null,
      "justify_content": null,
      "justify_items": null,
      "left": null,
      "margin": null,
      "max_height": null,
      "max_width": null,
      "min_height": null,
      "min_width": null,
      "object_fit": null,
      "object_position": null,
      "order": null,
      "overflow": null,
      "overflow_x": null,
      "overflow_y": null,
      "padding": null,
      "right": null,
      "top": null,
      "visibility": null,
      "width": null
     }
    },
    "8f245d300b364f3381f480a002567dae": {
     "model_module": "@jupyter-widgets/base",
     "model_module_version": "1.2.0",
     "model_name": "LayoutModel",
     "state": {
      "_model_module": "@jupyter-widgets/base",
      "_model_module_version": "1.2.0",
      "_model_name": "LayoutModel",
      "_view_count": null,
      "_view_module": "@jupyter-widgets/base",
      "_view_module_version": "1.2.0",
      "_view_name": "LayoutView",
      "align_content": null,
      "align_items": null,
      "align_self": null,
      "border": null,
      "bottom": null,
      "display": null,
      "flex": null,
      "flex_flow": null,
      "grid_area": null,
      "grid_auto_columns": null,
      "grid_auto_flow": null,
      "grid_auto_rows": null,
      "grid_column": null,
      "grid_gap": null,
      "grid_row": null,
      "grid_template_areas": null,
      "grid_template_columns": null,
      "grid_template_rows": null,
      "height": null,
      "justify_content": null,
      "justify_items": null,
      "left": null,
      "margin": null,
      "max_height": null,
      "max_width": null,
      "min_height": null,
      "min_width": null,
      "object_fit": null,
      "object_position": null,
      "order": null,
      "overflow": null,
      "overflow_x": null,
      "overflow_y": null,
      "padding": null,
      "right": null,
      "top": null,
      "visibility": null,
      "width": null
     }
    },
    "942a1d7cb0b94d949b00d95fbbdd6397": {
     "model_module": "@jupyter-widgets/controls",
     "model_module_version": "1.5.0",
     "model_name": "ProgressStyleModel",
     "state": {
      "_model_module": "@jupyter-widgets/controls",
      "_model_module_version": "1.5.0",
      "_model_name": "ProgressStyleModel",
      "_view_count": null,
      "_view_module": "@jupyter-widgets/base",
      "_view_module_version": "1.2.0",
      "_view_name": "StyleView",
      "bar_color": null,
      "description_width": ""
     }
    },
    "95664e22b53a47c498605bdfcd981a32": {
     "model_module": "@jupyter-widgets/controls",
     "model_module_version": "1.5.0",
     "model_name": "FloatProgressModel",
     "state": {
      "_dom_classes": [],
      "_model_module": "@jupyter-widgets/controls",
      "_model_module_version": "1.5.0",
      "_model_name": "FloatProgressModel",
      "_view_count": null,
      "_view_module": "@jupyter-widgets/controls",
      "_view_module_version": "1.5.0",
      "_view_name": "ProgressView",
      "bar_style": "success",
      "description": "",
      "description_tooltip": null,
      "layout": "IPY_MODEL_f198259970ce4cd99df5239a95ec2c9d",
      "max": 435797,
      "min": 0,
      "orientation": "horizontal",
      "style": "IPY_MODEL_5de40d183cac49ecacb0dfe5b055c307",
      "value": 435797
     }
    },
    "9835180cb31642d0bf58b5e24154be14": {
     "model_module": "@jupyter-widgets/controls",
     "model_module_version": "1.5.0",
     "model_name": "FloatProgressModel",
     "state": {
      "_dom_classes": [],
      "_model_module": "@jupyter-widgets/controls",
      "_model_module_version": "1.5.0",
      "_model_name": "FloatProgressModel",
      "_view_count": null,
      "_view_module": "@jupyter-widgets/controls",
      "_view_module_version": "1.5.0",
      "_view_name": "ProgressView",
      "bar_style": "success",
      "description": "",
      "description_tooltip": null,
      "layout": "IPY_MODEL_b62bace8e7c6493b93d1a2d40885ae91",
      "max": 411,
      "min": 0,
      "orientation": "horizontal",
      "style": "IPY_MODEL_7becf06a9ced4f6f9665b1dd765fee01",
      "value": 411
     }
    },
    "9a567ff66f144bf189f08bee9ef79273": {
     "model_module": "@jupyter-widgets/controls",
     "model_module_version": "1.5.0",
     "model_name": "HBoxModel",
     "state": {
      "_dom_classes": [],
      "_model_module": "@jupyter-widgets/controls",
      "_model_module_version": "1.5.0",
      "_model_name": "HBoxModel",
      "_view_count": null,
      "_view_module": "@jupyter-widgets/controls",
      "_view_module_version": "1.5.0",
      "_view_name": "HBoxView",
      "box_style": "",
      "children": [
       "IPY_MODEL_37a11dd1269d4b57a77725f28acb0703",
       "IPY_MODEL_0a54c223230a47f9b2bc2333a264add4",
       "IPY_MODEL_69730bdccbd64210936aca3b34a9750b"
      ],
      "layout": "IPY_MODEL_1ee5d7c7edf947d98a186cb085300369"
     }
    },
    "9c9bb217d2d742ed8ddd451dc54cb0a6": {
     "model_module": "@jupyter-widgets/controls",
     "model_module_version": "1.5.0",
     "model_name": "FloatProgressModel",
     "state": {
      "_dom_classes": [],
      "_model_module": "@jupyter-widgets/controls",
      "_model_module_version": "1.5.0",
      "_model_name": "FloatProgressModel",
      "_view_count": null,
      "_view_module": "@jupyter-widgets/controls",
      "_view_module_version": "1.5.0",
      "_view_name": "ProgressView",
      "bar_style": "success",
      "description": "",
      "description_tooltip": null,
      "layout": "IPY_MODEL_02a25a765c0948f6bcc799815ddeec70",
      "max": 263273408,
      "min": 0,
      "orientation": "horizontal",
      "style": "IPY_MODEL_0f94294d2117471ba89fd9f2732f3848",
      "value": 263273408
     }
    },
    "9f288e4ec9da401ca8f2eaffcf1536d5": {
     "model_module": "@jupyter-widgets/controls",
     "model_module_version": "1.5.0",
     "model_name": "HTMLModel",
     "state": {
      "_dom_classes": [],
      "_model_module": "@jupyter-widgets/controls",
      "_model_module_version": "1.5.0",
      "_model_name": "HTMLModel",
      "_view_count": null,
      "_view_module": "@jupyter-widgets/controls",
      "_view_module_version": "1.5.0",
      "_view_name": "HTMLView",
      "description": "",
      "description_tooltip": null,
      "layout": "IPY_MODEL_40e770aa4ca84373bac46016e5d56f0b",
      "placeholder": "​",
      "style": "IPY_MODEL_56cafd3159be41f48670d196a9eff613",
      "value": " 208k/208k [00:00&lt;00:00, 1.49MB/s]"
     }
    },
    "a0676cb0cd2d491b9dc035e4231c55bb": {
     "model_module": "@jupyter-widgets/base",
     "model_module_version": "1.2.0",
     "model_name": "LayoutModel",
     "state": {
      "_model_module": "@jupyter-widgets/base",
      "_model_module_version": "1.2.0",
      "_model_name": "LayoutModel",
      "_view_count": null,
      "_view_module": "@jupyter-widgets/base",
      "_view_module_version": "1.2.0",
      "_view_name": "LayoutView",
      "align_content": null,
      "align_items": null,
      "align_self": null,
      "border": null,
      "bottom": null,
      "display": null,
      "flex": null,
      "flex_flow": null,
      "grid_area": null,
      "grid_auto_columns": null,
      "grid_auto_flow": null,
      "grid_auto_rows": null,
      "grid_column": null,
      "grid_gap": null,
      "grid_row": null,
      "grid_template_areas": null,
      "grid_template_columns": null,
      "grid_template_rows": null,
      "height": null,
      "justify_content": null,
      "justify_items": null,
      "left": null,
      "margin": null,
      "max_height": null,
      "max_width": null,
      "min_height": null,
      "min_width": null,
      "object_fit": null,
      "object_position": null,
      "order": null,
      "overflow": null,
      "overflow_x": null,
      "overflow_y": null,
      "padding": null,
      "right": null,
      "top": null,
      "visibility": null,
      "width": null
     }
    },
    "a53714b40b2341a48bc69cf39d4a3aed": {
     "model_module": "@jupyter-widgets/base",
     "model_module_version": "1.2.0",
     "model_name": "LayoutModel",
     "state": {
      "_model_module": "@jupyter-widgets/base",
      "_model_module_version": "1.2.0",
      "_model_name": "LayoutModel",
      "_view_count": null,
      "_view_module": "@jupyter-widgets/base",
      "_view_module_version": "1.2.0",
      "_view_name": "LayoutView",
      "align_content": null,
      "align_items": null,
      "align_self": null,
      "border": null,
      "bottom": null,
      "display": null,
      "flex": null,
      "flex_flow": null,
      "grid_area": null,
      "grid_auto_columns": null,
      "grid_auto_flow": null,
      "grid_auto_rows": null,
      "grid_column": null,
      "grid_gap": null,
      "grid_row": null,
      "grid_template_areas": null,
      "grid_template_columns": null,
      "grid_template_rows": null,
      "height": null,
      "justify_content": null,
      "justify_items": null,
      "left": null,
      "margin": null,
      "max_height": null,
      "max_width": null,
      "min_height": null,
      "min_width": null,
      "object_fit": null,
      "object_position": null,
      "order": null,
      "overflow": null,
      "overflow_x": null,
      "overflow_y": null,
      "padding": null,
      "right": null,
      "top": null,
      "visibility": null,
      "width": null
     }
    },
    "ad25eaab0fbe42b48676e731d2821a71": {
     "model_module": "@jupyter-widgets/base",
     "model_module_version": "1.2.0",
     "model_name": "LayoutModel",
     "state": {
      "_model_module": "@jupyter-widgets/base",
      "_model_module_version": "1.2.0",
      "_model_name": "LayoutModel",
      "_view_count": null,
      "_view_module": "@jupyter-widgets/base",
      "_view_module_version": "1.2.0",
      "_view_name": "LayoutView",
      "align_content": null,
      "align_items": null,
      "align_self": null,
      "border": null,
      "bottom": null,
      "display": null,
      "flex": null,
      "flex_flow": null,
      "grid_area": null,
      "grid_auto_columns": null,
      "grid_auto_flow": null,
      "grid_auto_rows": null,
      "grid_column": null,
      "grid_gap": null,
      "grid_row": null,
      "grid_template_areas": null,
      "grid_template_columns": null,
      "grid_template_rows": null,
      "height": null,
      "justify_content": null,
      "justify_items": null,
      "left": null,
      "margin": null,
      "max_height": null,
      "max_width": null,
      "min_height": null,
      "min_width": null,
      "object_fit": null,
      "object_position": null,
      "order": null,
      "overflow": null,
      "overflow_x": null,
      "overflow_y": null,
      "padding": null,
      "right": null,
      "top": null,
      "visibility": null,
      "width": null
     }
    },
    "b62bace8e7c6493b93d1a2d40885ae91": {
     "model_module": "@jupyter-widgets/base",
     "model_module_version": "1.2.0",
     "model_name": "LayoutModel",
     "state": {
      "_model_module": "@jupyter-widgets/base",
      "_model_module_version": "1.2.0",
      "_model_name": "LayoutModel",
      "_view_count": null,
      "_view_module": "@jupyter-widgets/base",
      "_view_module_version": "1.2.0",
      "_view_name": "LayoutView",
      "align_content": null,
      "align_items": null,
      "align_self": null,
      "border": null,
      "bottom": null,
      "display": null,
      "flex": null,
      "flex_flow": null,
      "grid_area": null,
      "grid_auto_columns": null,
      "grid_auto_flow": null,
      "grid_auto_rows": null,
      "grid_column": null,
      "grid_gap": null,
      "grid_row": null,
      "grid_template_areas": null,
      "grid_template_columns": null,
      "grid_template_rows": null,
      "height": null,
      "justify_content": null,
      "justify_items": null,
      "left": null,
      "margin": null,
      "max_height": null,
      "max_width": null,
      "min_height": null,
      "min_width": null,
      "object_fit": null,
      "object_position": null,
      "order": null,
      "overflow": null,
      "overflow_x": null,
      "overflow_y": null,
      "padding": null,
      "right": null,
      "top": null,
      "visibility": null,
      "width": null
     }
    },
    "b8935b27d03c4e9396677ae669d37a05": {
     "model_module": "@jupyter-widgets/base",
     "model_module_version": "1.2.0",
     "model_name": "LayoutModel",
     "state": {
      "_model_module": "@jupyter-widgets/base",
      "_model_module_version": "1.2.0",
      "_model_name": "LayoutModel",
      "_view_count": null,
      "_view_module": "@jupyter-widgets/base",
      "_view_module_version": "1.2.0",
      "_view_name": "LayoutView",
      "align_content": null,
      "align_items": null,
      "align_self": null,
      "border": null,
      "bottom": null,
      "display": null,
      "flex": null,
      "flex_flow": null,
      "grid_area": null,
      "grid_auto_columns": null,
      "grid_auto_flow": null,
      "grid_auto_rows": null,
      "grid_column": null,
      "grid_gap": null,
      "grid_row": null,
      "grid_template_areas": null,
      "grid_template_columns": null,
      "grid_template_rows": null,
      "height": null,
      "justify_content": null,
      "justify_items": null,
      "left": null,
      "margin": null,
      "max_height": null,
      "max_width": null,
      "min_height": null,
      "min_width": null,
      "object_fit": null,
      "object_position": null,
      "order": null,
      "overflow": null,
      "overflow_x": null,
      "overflow_y": null,
      "padding": null,
      "right": null,
      "top": null,
      "visibility": null,
      "width": null
     }
    },
    "b9ea20dbdcdb40b5829df40f876043ce": {
     "model_module": "@jupyter-widgets/base",
     "model_module_version": "1.2.0",
     "model_name": "LayoutModel",
     "state": {
      "_model_module": "@jupyter-widgets/base",
      "_model_module_version": "1.2.0",
      "_model_name": "LayoutModel",
      "_view_count": null,
      "_view_module": "@jupyter-widgets/base",
      "_view_module_version": "1.2.0",
      "_view_name": "LayoutView",
      "align_content": null,
      "align_items": null,
      "align_self": null,
      "border": null,
      "bottom": null,
      "display": null,
      "flex": null,
      "flex_flow": null,
      "grid_area": null,
      "grid_auto_columns": null,
      "grid_auto_flow": null,
      "grid_auto_rows": null,
      "grid_column": null,
      "grid_gap": null,
      "grid_row": null,
      "grid_template_areas": null,
      "grid_template_columns": null,
      "grid_template_rows": null,
      "height": null,
      "justify_content": null,
      "justify_items": null,
      "left": null,
      "margin": null,
      "max_height": null,
      "max_width": null,
      "min_height": null,
      "min_width": null,
      "object_fit": null,
      "object_position": null,
      "order": null,
      "overflow": null,
      "overflow_x": null,
      "overflow_y": null,
      "padding": null,
      "right": null,
      "top": null,
      "visibility": null,
      "width": null
     }
    },
    "baace9dfc375425d82f42f856ac2895c": {
     "model_module": "@jupyter-widgets/controls",
     "model_module_version": "1.5.0",
     "model_name": "DescriptionStyleModel",
     "state": {
      "_model_module": "@jupyter-widgets/controls",
      "_model_module_version": "1.5.0",
      "_model_name": "DescriptionStyleModel",
      "_view_count": null,
      "_view_module": "@jupyter-widgets/base",
      "_view_module_version": "1.2.0",
      "_view_name": "StyleView",
      "description_width": ""
     }
    },
    "bb7754561f954d64aedf93ce6adfc3da": {
     "model_module": "@jupyter-widgets/controls",
     "model_module_version": "1.5.0",
     "model_name": "DescriptionStyleModel",
     "state": {
      "_model_module": "@jupyter-widgets/controls",
      "_model_module_version": "1.5.0",
      "_model_name": "DescriptionStyleModel",
      "_view_count": null,
      "_view_module": "@jupyter-widgets/base",
      "_view_module_version": "1.2.0",
      "_view_name": "StyleView",
      "description_width": ""
     }
    },
    "bb893dd299e3435696f01246a75419ba": {
     "model_module": "@jupyter-widgets/controls",
     "model_module_version": "1.5.0",
     "model_name": "HTMLModel",
     "state": {
      "_dom_classes": [],
      "_model_module": "@jupyter-widgets/controls",
      "_model_module_version": "1.5.0",
      "_model_name": "HTMLModel",
      "_view_count": null,
      "_view_module": "@jupyter-widgets/controls",
      "_view_module_version": "1.5.0",
      "_view_name": "HTMLView",
      "description": "",
      "description_tooltip": null,
      "layout": "IPY_MODEL_bd7fc9bbaf9d447a84bf7b316b51bf4d",
      "placeholder": "​",
      "style": "IPY_MODEL_baace9dfc375425d82f42f856ac2895c",
      "value": " 3/3 [00:00&lt;00:00,  4.68ba/s]"
     }
    },
    "bc4e0b87b5524dee9bf3b74ee9c2d2e8": {
     "model_module": "@jupyter-widgets/base",
     "model_module_version": "1.2.0",
     "model_name": "LayoutModel",
     "state": {
      "_model_module": "@jupyter-widgets/base",
      "_model_module_version": "1.2.0",
      "_model_name": "LayoutModel",
      "_view_count": null,
      "_view_module": "@jupyter-widgets/base",
      "_view_module_version": "1.2.0",
      "_view_name": "LayoutView",
      "align_content": null,
      "align_items": null,
      "align_self": null,
      "border": null,
      "bottom": null,
      "display": null,
      "flex": null,
      "flex_flow": null,
      "grid_area": null,
      "grid_auto_columns": null,
      "grid_auto_flow": null,
      "grid_auto_rows": null,
      "grid_column": null,
      "grid_gap": null,
      "grid_row": null,
      "grid_template_areas": null,
      "grid_template_columns": null,
      "grid_template_rows": null,
      "height": null,
      "justify_content": null,
      "justify_items": null,
      "left": null,
      "margin": null,
      "max_height": null,
      "max_width": null,
      "min_height": null,
      "min_width": null,
      "object_fit": null,
      "object_position": null,
      "order": null,
      "overflow": null,
      "overflow_x": null,
      "overflow_y": null,
      "padding": null,
      "right": null,
      "top": null,
      "visibility": null,
      "width": null
     }
    },
    "bd7fc9bbaf9d447a84bf7b316b51bf4d": {
     "model_module": "@jupyter-widgets/base",
     "model_module_version": "1.2.0",
     "model_name": "LayoutModel",
     "state": {
      "_model_module": "@jupyter-widgets/base",
      "_model_module_version": "1.2.0",
      "_model_name": "LayoutModel",
      "_view_count": null,
      "_view_module": "@jupyter-widgets/base",
      "_view_module_version": "1.2.0",
      "_view_name": "LayoutView",
      "align_content": null,
      "align_items": null,
      "align_self": null,
      "border": null,
      "bottom": null,
      "display": null,
      "flex": null,
      "flex_flow": null,
      "grid_area": null,
      "grid_auto_columns": null,
      "grid_auto_flow": null,
      "grid_auto_rows": null,
      "grid_column": null,
      "grid_gap": null,
      "grid_row": null,
      "grid_template_areas": null,
      "grid_template_columns": null,
      "grid_template_rows": null,
      "height": null,
      "justify_content": null,
      "justify_items": null,
      "left": null,
      "margin": null,
      "max_height": null,
      "max_width": null,
      "min_height": null,
      "min_width": null,
      "object_fit": null,
      "object_position": null,
      "order": null,
      "overflow": null,
      "overflow_x": null,
      "overflow_y": null,
      "padding": null,
      "right": null,
      "top": null,
      "visibility": null,
      "width": null
     }
    },
    "bfac4de76a734918962e385503673d9d": {
     "model_module": "@jupyter-widgets/controls",
     "model_module_version": "1.5.0",
     "model_name": "HTMLModel",
     "state": {
      "_dom_classes": [],
      "_model_module": "@jupyter-widgets/controls",
      "_model_module_version": "1.5.0",
      "_model_name": "HTMLModel",
      "_view_count": null,
      "_view_module": "@jupyter-widgets/controls",
      "_view_module_version": "1.5.0",
      "_view_name": "HTMLView",
      "description": "",
      "description_tooltip": null,
      "layout": "IPY_MODEL_59a8add8fe5c414baa7829c7ea7c23d6",
      "placeholder": "​",
      "style": "IPY_MODEL_bb7754561f954d64aedf93ce6adfc3da",
      "value": " 411/411 [00:00&lt;00:00, 9.95kB/s]"
     }
    },
    "c00e9def789c4081a0acf4e4202b8d6d": {
     "model_module": "@jupyter-widgets/controls",
     "model_module_version": "1.5.0",
     "model_name": "DescriptionStyleModel",
     "state": {
      "_model_module": "@jupyter-widgets/controls",
      "_model_module_version": "1.5.0",
      "_model_name": "DescriptionStyleModel",
      "_view_count": null,
      "_view_module": "@jupyter-widgets/base",
      "_view_module_version": "1.2.0",
      "_view_name": "StyleView",
      "description_width": ""
     }
    },
    "c1f1bd8a5ef94339ae2d70a4a40728a7": {
     "model_module": "@jupyter-widgets/controls",
     "model_module_version": "1.5.0",
     "model_name": "FloatProgressModel",
     "state": {
      "_dom_classes": [],
      "_model_module": "@jupyter-widgets/controls",
      "_model_module_version": "1.5.0",
      "_model_name": "FloatProgressModel",
      "_view_count": null,
      "_view_module": "@jupyter-widgets/controls",
      "_view_module_version": "1.5.0",
      "_view_name": "ProgressView",
      "bar_style": "success",
      "description": "",
      "description_tooltip": null,
      "layout": "IPY_MODEL_e0ba0c17f88541f9977a5d726cf5339f",
      "max": 4,
      "min": 0,
      "orientation": "horizontal",
      "style": "IPY_MODEL_428fca2ba5064f17a666888d14c87091",
      "value": 4
     }
    },
    "cd2e45566b0546469ea7f0d7987f1f3b": {
     "model_module": "@jupyter-widgets/controls",
     "model_module_version": "1.5.0",
     "model_name": "DescriptionStyleModel",
     "state": {
      "_model_module": "@jupyter-widgets/controls",
      "_model_module_version": "1.5.0",
      "_model_name": "DescriptionStyleModel",
      "_view_count": null,
      "_view_module": "@jupyter-widgets/base",
      "_view_module_version": "1.2.0",
      "_view_name": "StyleView",
      "description_width": ""
     }
    },
    "d08a844b2c60491e8df64926cf428c7a": {
     "model_module": "@jupyter-widgets/controls",
     "model_module_version": "1.5.0",
     "model_name": "HBoxModel",
     "state": {
      "_dom_classes": [],
      "_model_module": "@jupyter-widgets/controls",
      "_model_module_version": "1.5.0",
      "_model_name": "HBoxModel",
      "_view_count": null,
      "_view_module": "@jupyter-widgets/controls",
      "_view_module_version": "1.5.0",
      "_view_name": "HBoxView",
      "box_style": "",
      "children": [
       "IPY_MODEL_ec6a31a7eea9469d8b1b5ec28b9a15c8",
       "IPY_MODEL_95664e22b53a47c498605bdfcd981a32",
       "IPY_MODEL_4c60cca3a6454fc09d94a5e3f0d713c7"
      ],
      "layout": "IPY_MODEL_a53714b40b2341a48bc69cf39d4a3aed"
     }
    },
    "d0a504a5bec545b8b45250f8982f4748": {
     "model_module": "@jupyter-widgets/controls",
     "model_module_version": "1.5.0",
     "model_name": "DescriptionStyleModel",
     "state": {
      "_model_module": "@jupyter-widgets/controls",
      "_model_module_version": "1.5.0",
      "_model_name": "DescriptionStyleModel",
      "_view_count": null,
      "_view_module": "@jupyter-widgets/base",
      "_view_module_version": "1.2.0",
      "_view_name": "StyleView",
      "description_width": ""
     }
    },
    "d1d5d1ce74c244dc8c852596431a9221": {
     "model_module": "@jupyter-widgets/controls",
     "model_module_version": "1.5.0",
     "model_name": "HTMLModel",
     "state": {
      "_dom_classes": [],
      "_model_module": "@jupyter-widgets/controls",
      "_model_module_version": "1.5.0",
      "_model_name": "HTMLModel",
      "_view_count": null,
      "_view_module": "@jupyter-widgets/controls",
      "_view_module_version": "1.5.0",
      "_view_name": "HTMLView",
      "description": "",
      "description_tooltip": null,
      "layout": "IPY_MODEL_d4872a48b1474a6b960c337a7422e9f2",
      "placeholder": "​",
      "style": "IPY_MODEL_0bdcb56b6e484c9582a651dccc069181",
      "value": "Downloading: 100%"
     }
    },
    "d4872a48b1474a6b960c337a7422e9f2": {
     "model_module": "@jupyter-widgets/base",
     "model_module_version": "1.2.0",
     "model_name": "LayoutModel",
     "state": {
      "_model_module": "@jupyter-widgets/base",
      "_model_module_version": "1.2.0",
      "_model_name": "LayoutModel",
      "_view_count": null,
      "_view_module": "@jupyter-widgets/base",
      "_view_module_version": "1.2.0",
      "_view_name": "LayoutView",
      "align_content": null,
      "align_items": null,
      "align_self": null,
      "border": null,
      "bottom": null,
      "display": null,
      "flex": null,
      "flex_flow": null,
      "grid_area": null,
      "grid_auto_columns": null,
      "grid_auto_flow": null,
      "grid_auto_rows": null,
      "grid_column": null,
      "grid_gap": null,
      "grid_row": null,
      "grid_template_areas": null,
      "grid_template_columns": null,
      "grid_template_rows": null,
      "height": null,
      "justify_content": null,
      "justify_items": null,
      "left": null,
      "margin": null,
      "max_height": null,
      "max_width": null,
      "min_height": null,
      "min_width": null,
      "object_fit": null,
      "object_position": null,
      "order": null,
      "overflow": null,
      "overflow_x": null,
      "overflow_y": null,
      "padding": null,
      "right": null,
      "top": null,
      "visibility": null,
      "width": null
     }
    },
    "d57d4be0b34441cd96d8751fd252956b": {
     "model_module": "@jupyter-widgets/controls",
     "model_module_version": "1.5.0",
     "model_name": "FloatProgressModel",
     "state": {
      "_dom_classes": [],
      "_model_module": "@jupyter-widgets/controls",
      "_model_module_version": "1.5.0",
      "_model_name": "FloatProgressModel",
      "_view_count": null,
      "_view_module": "@jupyter-widgets/controls",
      "_view_module_version": "1.5.0",
      "_view_name": "ProgressView",
      "bar_style": "success",
      "description": "",
      "description_tooltip": null,
      "layout": "IPY_MODEL_b8935b27d03c4e9396677ae669d37a05",
      "max": 213450,
      "min": 0,
      "orientation": "horizontal",
      "style": "IPY_MODEL_18d039187b5a47bb8089e563d99e4483",
      "value": 213450
     }
    },
    "d94c55cdfa644ce1b12cdf57eaa28414": {
     "model_module": "@jupyter-widgets/controls",
     "model_module_version": "1.5.0",
     "model_name": "ProgressStyleModel",
     "state": {
      "_model_module": "@jupyter-widgets/controls",
      "_model_module_version": "1.5.0",
      "_model_name": "ProgressStyleModel",
      "_view_count": null,
      "_view_module": "@jupyter-widgets/base",
      "_view_module_version": "1.2.0",
      "_view_name": "StyleView",
      "bar_color": null,
      "description_width": ""
     }
    },
    "d9a637d50798446190307f13e51c65dc": {
     "model_module": "@jupyter-widgets/controls",
     "model_module_version": "1.5.0",
     "model_name": "HTMLModel",
     "state": {
      "_dom_classes": [],
      "_model_module": "@jupyter-widgets/controls",
      "_model_module_version": "1.5.0",
      "_model_name": "HTMLModel",
      "_view_count": null,
      "_view_module": "@jupyter-widgets/controls",
      "_view_module_version": "1.5.0",
      "_view_name": "HTMLView",
      "description": "",
      "description_tooltip": null,
      "layout": "IPY_MODEL_bc4e0b87b5524dee9bf3b74ee9c2d2e8",
      "placeholder": "​",
      "style": "IPY_MODEL_70712a7d44cf4450b2c50b820f1307bf",
      "value": " 4/4 [00:00&lt;00:00,  5.79ba/s]"
     }
    },
    "d9bcf6d5b52b476f99f0f2d479a2f121": {
     "model_module": "@jupyter-widgets/controls",
     "model_module_version": "1.5.0",
     "model_name": "HBoxModel",
     "state": {
      "_dom_classes": [],
      "_model_module": "@jupyter-widgets/controls",
      "_model_module_version": "1.5.0",
      "_model_name": "HBoxModel",
      "_view_count": null,
      "_view_module": "@jupyter-widgets/controls",
      "_view_module_version": "1.5.0",
      "_view_name": "HBoxView",
      "box_style": "",
      "children": [
       "IPY_MODEL_d1d5d1ce74c244dc8c852596431a9221",
       "IPY_MODEL_9c9bb217d2d742ed8ddd451dc54cb0a6",
       "IPY_MODEL_46ef413dac8a44409343fcf5541ed94b"
      ],
      "layout": "IPY_MODEL_fd13c16c8c2147ab82d56aff86178ac2"
     }
    },
    "e0ba0c17f88541f9977a5d726cf5339f": {
     "model_module": "@jupyter-widgets/base",
     "model_module_version": "1.2.0",
     "model_name": "LayoutModel",
     "state": {
      "_model_module": "@jupyter-widgets/base",
      "_model_module_version": "1.2.0",
      "_model_name": "LayoutModel",
      "_view_count": null,
      "_view_module": "@jupyter-widgets/base",
      "_view_module_version": "1.2.0",
      "_view_name": "LayoutView",
      "align_content": null,
      "align_items": null,
      "align_self": null,
      "border": null,
      "bottom": null,
      "display": null,
      "flex": null,
      "flex_flow": null,
      "grid_area": null,
      "grid_auto_columns": null,
      "grid_auto_flow": null,
      "grid_auto_rows": null,
      "grid_column": null,
      "grid_gap": null,
      "grid_row": null,
      "grid_template_areas": null,
      "grid_template_columns": null,
      "grid_template_rows": null,
      "height": null,
      "justify_content": null,
      "justify_items": null,
      "left": null,
      "margin": null,
      "max_height": null,
      "max_width": null,
      "min_height": null,
      "min_width": null,
      "object_fit": null,
      "object_position": null,
      "order": null,
      "overflow": null,
      "overflow_x": null,
      "overflow_y": null,
      "padding": null,
      "right": null,
      "top": null,
      "visibility": null,
      "width": null
     }
    },
    "e14459f7b7ab4ff1bcc3050a0a15e530": {
     "model_module": "@jupyter-widgets/controls",
     "model_module_version": "1.5.0",
     "model_name": "HTMLModel",
     "state": {
      "_dom_classes": [],
      "_model_module": "@jupyter-widgets/controls",
      "_model_module_version": "1.5.0",
      "_model_name": "HTMLModel",
      "_view_count": null,
      "_view_module": "@jupyter-widgets/controls",
      "_view_module_version": "1.5.0",
      "_view_name": "HTMLView",
      "description": "",
      "description_tooltip": null,
      "layout": "IPY_MODEL_a0676cb0cd2d491b9dc035e4231c55bb",
      "placeholder": "​",
      "style": "IPY_MODEL_cd2e45566b0546469ea7f0d7987f1f3b",
      "value": "Downloading: 100%"
     }
    },
    "e2df828e18e649b7bde2a95cc9351650": {
     "model_module": "@jupyter-widgets/base",
     "model_module_version": "1.2.0",
     "model_name": "LayoutModel",
     "state": {
      "_model_module": "@jupyter-widgets/base",
      "_model_module_version": "1.2.0",
      "_model_name": "LayoutModel",
      "_view_count": null,
      "_view_module": "@jupyter-widgets/base",
      "_view_module_version": "1.2.0",
      "_view_name": "LayoutView",
      "align_content": null,
      "align_items": null,
      "align_self": null,
      "border": null,
      "bottom": null,
      "display": null,
      "flex": null,
      "flex_flow": null,
      "grid_area": null,
      "grid_auto_columns": null,
      "grid_auto_flow": null,
      "grid_auto_rows": null,
      "grid_column": null,
      "grid_gap": null,
      "grid_row": null,
      "grid_template_areas": null,
      "grid_template_columns": null,
      "grid_template_rows": null,
      "height": null,
      "justify_content": null,
      "justify_items": null,
      "left": null,
      "margin": null,
      "max_height": null,
      "max_width": null,
      "min_height": null,
      "min_width": null,
      "object_fit": null,
      "object_position": null,
      "order": null,
      "overflow": null,
      "overflow_x": null,
      "overflow_y": null,
      "padding": null,
      "right": null,
      "top": null,
      "visibility": null,
      "width": null
     }
    },
    "e99624aa26aa438fb28a3992b67411a4": {
     "model_module": "@jupyter-widgets/base",
     "model_module_version": "1.2.0",
     "model_name": "LayoutModel",
     "state": {
      "_model_module": "@jupyter-widgets/base",
      "_model_module_version": "1.2.0",
      "_model_name": "LayoutModel",
      "_view_count": null,
      "_view_module": "@jupyter-widgets/base",
      "_view_module_version": "1.2.0",
      "_view_name": "LayoutView",
      "align_content": null,
      "align_items": null,
      "align_self": null,
      "border": null,
      "bottom": null,
      "display": null,
      "flex": null,
      "flex_flow": null,
      "grid_area": null,
      "grid_auto_columns": null,
      "grid_auto_flow": null,
      "grid_auto_rows": null,
      "grid_column": null,
      "grid_gap": null,
      "grid_row": null,
      "grid_template_areas": null,
      "grid_template_columns": null,
      "grid_template_rows": null,
      "height": null,
      "justify_content": null,
      "justify_items": null,
      "left": null,
      "margin": null,
      "max_height": null,
      "max_width": null,
      "min_height": null,
      "min_width": null,
      "object_fit": null,
      "object_position": null,
      "order": null,
      "overflow": null,
      "overflow_x": null,
      "overflow_y": null,
      "padding": null,
      "right": null,
      "top": null,
      "visibility": null,
      "width": null
     }
    },
    "ea6a25401edf49e8a02ddf3d1d85dcc0": {
     "model_module": "@jupyter-widgets/controls",
     "model_module_version": "1.5.0",
     "model_name": "HBoxModel",
     "state": {
      "_dom_classes": [],
      "_model_module": "@jupyter-widgets/controls",
      "_model_module_version": "1.5.0",
      "_model_name": "HBoxModel",
      "_view_count": null,
      "_view_module": "@jupyter-widgets/controls",
      "_view_module_version": "1.5.0",
      "_view_name": "HBoxView",
      "box_style": "",
      "children": [
       "IPY_MODEL_7050216aeee0495f9ee51c03a32b9e6a",
       "IPY_MODEL_c1f1bd8a5ef94339ae2d70a4a40728a7",
       "IPY_MODEL_d9a637d50798446190307f13e51c65dc"
      ],
      "layout": "IPY_MODEL_e99624aa26aa438fb28a3992b67411a4"
     }
    },
    "ea8ce2f070db48b8926c2e44b9739ee5": {
     "model_module": "@jupyter-widgets/controls",
     "model_module_version": "1.5.0",
     "model_name": "DescriptionStyleModel",
     "state": {
      "_model_module": "@jupyter-widgets/controls",
      "_model_module_version": "1.5.0",
      "_model_name": "DescriptionStyleModel",
      "_view_count": null,
      "_view_module": "@jupyter-widgets/base",
      "_view_module_version": "1.2.0",
      "_view_name": "StyleView",
      "description_width": ""
     }
    },
    "ebf580e1b60144d187541b9177fbec44": {
     "model_module": "@jupyter-widgets/controls",
     "model_module_version": "1.5.0",
     "model_name": "HBoxModel",
     "state": {
      "_dom_classes": [],
      "_model_module": "@jupyter-widgets/controls",
      "_model_module_version": "1.5.0",
      "_model_name": "HBoxModel",
      "_view_count": null,
      "_view_module": "@jupyter-widgets/controls",
      "_view_module_version": "1.5.0",
      "_view_name": "HBoxView",
      "box_style": "",
      "children": [
       "IPY_MODEL_e14459f7b7ab4ff1bcc3050a0a15e530",
       "IPY_MODEL_d57d4be0b34441cd96d8751fd252956b",
       "IPY_MODEL_9f288e4ec9da401ca8f2eaffcf1536d5"
      ],
      "layout": "IPY_MODEL_259c6ce587de403da221775b5c8cfe6f"
     }
    },
    "ec6a31a7eea9469d8b1b5ec28b9a15c8": {
     "model_module": "@jupyter-widgets/controls",
     "model_module_version": "1.5.0",
     "model_name": "HTMLModel",
     "state": {
      "_dom_classes": [],
      "_model_module": "@jupyter-widgets/controls",
      "_model_module_version": "1.5.0",
      "_model_name": "HTMLModel",
      "_view_count": null,
      "_view_module": "@jupyter-widgets/controls",
      "_view_module_version": "1.5.0",
      "_view_name": "HTMLView",
      "description": "",
      "description_tooltip": null,
      "layout": "IPY_MODEL_885d58a475554537bab1502e8d357d54",
      "placeholder": "​",
      "style": "IPY_MODEL_fa315baeca584bc096b35df39e679788",
      "value": "Downloading: 100%"
     }
    },
    "ecf340ac2ae645bbbb03564c46036b76": {
     "model_module": "@jupyter-widgets/controls",
     "model_module_version": "1.5.0",
     "model_name": "DescriptionStyleModel",
     "state": {
      "_model_module": "@jupyter-widgets/controls",
      "_model_module_version": "1.5.0",
      "_model_name": "DescriptionStyleModel",
      "_view_count": null,
      "_view_module": "@jupyter-widgets/base",
      "_view_module_version": "1.2.0",
      "_view_name": "StyleView",
      "description_width": ""
     }
    },
    "f198259970ce4cd99df5239a95ec2c9d": {
     "model_module": "@jupyter-widgets/base",
     "model_module_version": "1.2.0",
     "model_name": "LayoutModel",
     "state": {
      "_model_module": "@jupyter-widgets/base",
      "_model_module_version": "1.2.0",
      "_model_name": "LayoutModel",
      "_view_count": null,
      "_view_module": "@jupyter-widgets/base",
      "_view_module_version": "1.2.0",
      "_view_name": "LayoutView",
      "align_content": null,
      "align_items": null,
      "align_self": null,
      "border": null,
      "bottom": null,
      "display": null,
      "flex": null,
      "flex_flow": null,
      "grid_area": null,
      "grid_auto_columns": null,
      "grid_auto_flow": null,
      "grid_auto_rows": null,
      "grid_column": null,
      "grid_gap": null,
      "grid_row": null,
      "grid_template_areas": null,
      "grid_template_columns": null,
      "grid_template_rows": null,
      "height": null,
      "justify_content": null,
      "justify_items": null,
      "left": null,
      "margin": null,
      "max_height": null,
      "max_width": null,
      "min_height": null,
      "min_width": null,
      "object_fit": null,
      "object_position": null,
      "order": null,
      "overflow": null,
      "overflow_x": null,
      "overflow_y": null,
      "padding": null,
      "right": null,
      "top": null,
      "visibility": null,
      "width": null
     }
    },
    "fa315baeca584bc096b35df39e679788": {
     "model_module": "@jupyter-widgets/controls",
     "model_module_version": "1.5.0",
     "model_name": "DescriptionStyleModel",
     "state": {
      "_model_module": "@jupyter-widgets/controls",
      "_model_module_version": "1.5.0",
      "_model_name": "DescriptionStyleModel",
      "_view_count": null,
      "_view_module": "@jupyter-widgets/base",
      "_view_module_version": "1.2.0",
      "_view_name": "StyleView",
      "description_width": ""
     }
    },
    "fd13c16c8c2147ab82d56aff86178ac2": {
     "model_module": "@jupyter-widgets/base",
     "model_module_version": "1.2.0",
     "model_name": "LayoutModel",
     "state": {
      "_model_module": "@jupyter-widgets/base",
      "_model_module_version": "1.2.0",
      "_model_name": "LayoutModel",
      "_view_count": null,
      "_view_module": "@jupyter-widgets/base",
      "_view_module_version": "1.2.0",
      "_view_name": "LayoutView",
      "align_content": null,
      "align_items": null,
      "align_self": null,
      "border": null,
      "bottom": null,
      "display": null,
      "flex": null,
      "flex_flow": null,
      "grid_area": null,
      "grid_auto_columns": null,
      "grid_auto_flow": null,
      "grid_auto_rows": null,
      "grid_column": null,
      "grid_gap": null,
      "grid_row": null,
      "grid_template_areas": null,
      "grid_template_columns": null,
      "grid_template_rows": null,
      "height": null,
      "justify_content": null,
      "justify_items": null,
      "left": null,
      "margin": null,
      "max_height": null,
      "max_width": null,
      "min_height": null,
      "min_width": null,
      "object_fit": null,
      "object_position": null,
      "order": null,
      "overflow": null,
      "overflow_x": null,
      "overflow_y": null,
      "padding": null,
      "right": null,
      "top": null,
      "visibility": null,
      "width": null
     }
    },
    "fe77106f0e42481f84f16dd8da9dc183": {
     "model_module": "@jupyter-widgets/base",
     "model_module_version": "1.2.0",
     "model_name": "LayoutModel",
     "state": {
      "_model_module": "@jupyter-widgets/base",
      "_model_module_version": "1.2.0",
      "_model_name": "LayoutModel",
      "_view_count": null,
      "_view_module": "@jupyter-widgets/base",
      "_view_module_version": "1.2.0",
      "_view_name": "LayoutView",
      "align_content": null,
      "align_items": null,
      "align_self": null,
      "border": null,
      "bottom": null,
      "display": null,
      "flex": null,
      "flex_flow": null,
      "grid_area": null,
      "grid_auto_columns": null,
      "grid_auto_flow": null,
      "grid_auto_rows": null,
      "grid_column": null,
      "grid_gap": null,
      "grid_row": null,
      "grid_template_areas": null,
      "grid_template_columns": null,
      "grid_template_rows": null,
      "height": null,
      "justify_content": null,
      "justify_items": null,
      "left": null,
      "margin": null,
      "max_height": null,
      "max_width": null,
      "min_height": null,
      "min_width": null,
      "object_fit": null,
      "object_position": null,
      "order": null,
      "overflow": null,
      "overflow_x": null,
      "overflow_y": null,
      "padding": null,
      "right": null,
      "top": null,
      "visibility": null,
      "width": null
     }
    }
   }
  }
 },
 "nbformat": 4,
 "nbformat_minor": 1
}
